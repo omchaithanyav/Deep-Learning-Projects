{
 "cells": [
  {
   "cell_type": "markdown",
   "metadata": {
    "execution": {
     "iopub.execute_input": "2021-07-06T09:50:54.139570Z",
     "iopub.status.busy": "2021-07-06T09:50:54.139213Z",
     "iopub.status.idle": "2021-07-06T09:50:54.142094Z",
     "shell.execute_reply": "2021-07-06T09:50:54.141415Z",
     "shell.execute_reply.started": "2021-07-06T09:50:54.139545Z"
    }
   },
   "source": [
    "# Organic Compounds Classifier"
   ]
  },
  {
   "cell_type": "code",
   "execution_count": 3,
   "metadata": {
    "execution": {
     "iopub.execute_input": "2021-07-06T11:17:20.834293Z",
     "iopub.status.busy": "2021-07-06T11:17:20.834116Z",
     "iopub.status.idle": "2021-07-06T11:17:20.837215Z",
     "shell.execute_reply": "2021-07-06T11:17:20.836735Z",
     "shell.execute_reply.started": "2021-07-06T11:17:20.834273Z"
    }
   },
   "outputs": [],
   "source": [
    "# Import the required libraries\n",
    "import tensorflow as tf\n",
    "import pandas as pd\n",
    "import matplotlib.pyplot as plt"
   ]
  },
  {
   "cell_type": "code",
   "execution_count": 4,
   "metadata": {
    "execution": {
     "iopub.execute_input": "2021-07-06T11:17:20.838333Z",
     "iopub.status.busy": "2021-07-06T11:17:20.838165Z",
     "iopub.status.idle": "2021-07-06T11:17:20.966160Z",
     "shell.execute_reply": "2021-07-06T11:17:20.965680Z",
     "shell.execute_reply.started": "2021-07-06T11:17:20.838315Z"
    }
   },
   "outputs": [
    {
     "data": {
      "text/html": [
       "<div>\n",
       "<style scoped>\n",
       "    .dataframe tbody tr th:only-of-type {\n",
       "        vertical-align: middle;\n",
       "    }\n",
       "\n",
       "    .dataframe tbody tr th {\n",
       "        vertical-align: top;\n",
       "    }\n",
       "\n",
       "    .dataframe thead th {\n",
       "        text-align: right;\n",
       "    }\n",
       "</style>\n",
       "<table border=\"1\" class=\"dataframe\">\n",
       "  <thead>\n",
       "    <tr style=\"text-align: right;\">\n",
       "      <th></th>\n",
       "      <th>ID</th>\n",
       "      <th>molecule_name</th>\n",
       "      <th>conformation_name</th>\n",
       "      <th>f1</th>\n",
       "      <th>f2</th>\n",
       "      <th>f3</th>\n",
       "      <th>f4</th>\n",
       "      <th>f5</th>\n",
       "      <th>f6</th>\n",
       "      <th>f7</th>\n",
       "      <th>...</th>\n",
       "      <th>f158</th>\n",
       "      <th>f159</th>\n",
       "      <th>f160</th>\n",
       "      <th>f161</th>\n",
       "      <th>f162</th>\n",
       "      <th>f163</th>\n",
       "      <th>f164</th>\n",
       "      <th>f165</th>\n",
       "      <th>f166</th>\n",
       "      <th>class</th>\n",
       "    </tr>\n",
       "  </thead>\n",
       "  <tbody>\n",
       "    <tr>\n",
       "      <th>0</th>\n",
       "      <td>1</td>\n",
       "      <td>MUSK-211</td>\n",
       "      <td>211_1+1</td>\n",
       "      <td>46</td>\n",
       "      <td>-108</td>\n",
       "      <td>-60</td>\n",
       "      <td>-69</td>\n",
       "      <td>-117</td>\n",
       "      <td>49</td>\n",
       "      <td>38</td>\n",
       "      <td>...</td>\n",
       "      <td>-308</td>\n",
       "      <td>52</td>\n",
       "      <td>-7</td>\n",
       "      <td>39</td>\n",
       "      <td>126</td>\n",
       "      <td>156</td>\n",
       "      <td>-50</td>\n",
       "      <td>-112</td>\n",
       "      <td>96</td>\n",
       "      <td>1</td>\n",
       "    </tr>\n",
       "    <tr>\n",
       "      <th>1</th>\n",
       "      <td>2</td>\n",
       "      <td>MUSK-211</td>\n",
       "      <td>211_1+10</td>\n",
       "      <td>41</td>\n",
       "      <td>-188</td>\n",
       "      <td>-145</td>\n",
       "      <td>22</td>\n",
       "      <td>-117</td>\n",
       "      <td>-6</td>\n",
       "      <td>57</td>\n",
       "      <td>...</td>\n",
       "      <td>-59</td>\n",
       "      <td>-2</td>\n",
       "      <td>52</td>\n",
       "      <td>103</td>\n",
       "      <td>136</td>\n",
       "      <td>169</td>\n",
       "      <td>-61</td>\n",
       "      <td>-136</td>\n",
       "      <td>79</td>\n",
       "      <td>1</td>\n",
       "    </tr>\n",
       "    <tr>\n",
       "      <th>2</th>\n",
       "      <td>3</td>\n",
       "      <td>MUSK-211</td>\n",
       "      <td>211_1+11</td>\n",
       "      <td>46</td>\n",
       "      <td>-194</td>\n",
       "      <td>-145</td>\n",
       "      <td>28</td>\n",
       "      <td>-117</td>\n",
       "      <td>73</td>\n",
       "      <td>57</td>\n",
       "      <td>...</td>\n",
       "      <td>-134</td>\n",
       "      <td>-154</td>\n",
       "      <td>57</td>\n",
       "      <td>143</td>\n",
       "      <td>142</td>\n",
       "      <td>165</td>\n",
       "      <td>-67</td>\n",
       "      <td>-145</td>\n",
       "      <td>39</td>\n",
       "      <td>1</td>\n",
       "    </tr>\n",
       "    <tr>\n",
       "      <th>3</th>\n",
       "      <td>4</td>\n",
       "      <td>MUSK-211</td>\n",
       "      <td>211_1+12</td>\n",
       "      <td>41</td>\n",
       "      <td>-188</td>\n",
       "      <td>-145</td>\n",
       "      <td>22</td>\n",
       "      <td>-117</td>\n",
       "      <td>-7</td>\n",
       "      <td>57</td>\n",
       "      <td>...</td>\n",
       "      <td>-60</td>\n",
       "      <td>-4</td>\n",
       "      <td>52</td>\n",
       "      <td>104</td>\n",
       "      <td>136</td>\n",
       "      <td>168</td>\n",
       "      <td>-60</td>\n",
       "      <td>-135</td>\n",
       "      <td>80</td>\n",
       "      <td>1</td>\n",
       "    </tr>\n",
       "    <tr>\n",
       "      <th>4</th>\n",
       "      <td>5</td>\n",
       "      <td>MUSK-211</td>\n",
       "      <td>211_1+13</td>\n",
       "      <td>41</td>\n",
       "      <td>-188</td>\n",
       "      <td>-145</td>\n",
       "      <td>22</td>\n",
       "      <td>-117</td>\n",
       "      <td>-7</td>\n",
       "      <td>57</td>\n",
       "      <td>...</td>\n",
       "      <td>-60</td>\n",
       "      <td>-4</td>\n",
       "      <td>52</td>\n",
       "      <td>104</td>\n",
       "      <td>137</td>\n",
       "      <td>168</td>\n",
       "      <td>-60</td>\n",
       "      <td>-135</td>\n",
       "      <td>80</td>\n",
       "      <td>1</td>\n",
       "    </tr>\n",
       "  </tbody>\n",
       "</table>\n",
       "<p>5 rows × 170 columns</p>\n",
       "</div>"
      ],
      "text/plain": [
       "   ID molecule_name conformation_name  f1   f2   f3  f4   f5  f6  f7  ...  \\\n",
       "0   1      MUSK-211           211_1+1  46 -108  -60 -69 -117  49  38  ...   \n",
       "1   2      MUSK-211          211_1+10  41 -188 -145  22 -117  -6  57  ...   \n",
       "2   3      MUSK-211          211_1+11  46 -194 -145  28 -117  73  57  ...   \n",
       "3   4      MUSK-211          211_1+12  41 -188 -145  22 -117  -7  57  ...   \n",
       "4   5      MUSK-211          211_1+13  41 -188 -145  22 -117  -7  57  ...   \n",
       "\n",
       "   f158  f159  f160  f161  f162  f163  f164  f165  f166  class  \n",
       "0  -308    52    -7    39   126   156   -50  -112    96      1  \n",
       "1   -59    -2    52   103   136   169   -61  -136    79      1  \n",
       "2  -134  -154    57   143   142   165   -67  -145    39      1  \n",
       "3   -60    -4    52   104   136   168   -60  -135    80      1  \n",
       "4   -60    -4    52   104   137   168   -60  -135    80      1  \n",
       "\n",
       "[5 rows x 170 columns]"
      ]
     },
     "execution_count": 4,
     "metadata": {},
     "output_type": "execute_result"
    }
   ],
   "source": [
    "# read the csv file\n",
    "import os\n",
    "os.chdir(r\"C:\\Users\\apega\\My py notes\\Deep Learning with python\\Other files\")\n",
    "dataset = pd.read_csv('musk_csv.csv')\n",
    "dataset.head()"
   ]
  },
  {
   "cell_type": "markdown",
   "metadata": {},
   "source": [
    "# Data Preprocessing"
   ]
  },
  {
   "cell_type": "code",
   "execution_count": 5,
   "metadata": {
    "execution": {
     "iopub.execute_input": "2021-07-06T11:17:20.967126Z",
     "iopub.status.busy": "2021-07-06T11:17:20.966961Z",
     "iopub.status.idle": "2021-07-06T11:17:20.973723Z",
     "shell.execute_reply": "2021-07-06T11:17:20.973131Z",
     "shell.execute_reply.started": "2021-07-06T11:17:20.967108Z"
    }
   },
   "outputs": [],
   "source": [
    "X = dataset.iloc[:, 3:-1].values\n",
    "y = dataset.iloc[:, -1].values"
   ]
  },
  {
   "cell_type": "code",
   "execution_count": 6,
   "metadata": {
    "execution": {
     "iopub.execute_input": "2021-07-06T11:17:20.974779Z",
     "iopub.status.busy": "2021-07-06T11:17:20.974611Z",
     "iopub.status.idle": "2021-07-06T11:17:20.995226Z",
     "shell.execute_reply": "2021-07-06T11:17:20.994719Z",
     "shell.execute_reply.started": "2021-07-06T11:17:20.974761Z"
    }
   },
   "outputs": [],
   "source": [
    "# Scaling\n",
    "from sklearn.preprocessing import StandardScaler\n",
    "ss = StandardScaler()\n",
    "X = ss.fit_transform(X)"
   ]
  },
  {
   "cell_type": "markdown",
   "metadata": {},
   "source": [
    "# Split the data for training and testing\n"
   ]
  },
  {
   "cell_type": "code",
   "execution_count": 7,
   "metadata": {
    "execution": {
     "iopub.execute_input": "2021-07-06T11:17:20.996210Z",
     "iopub.status.busy": "2021-07-06T11:17:20.995971Z",
     "iopub.status.idle": "2021-07-06T11:17:21.003442Z",
     "shell.execute_reply": "2021-07-06T11:17:21.002991Z",
     "shell.execute_reply.started": "2021-07-06T11:17:20.996191Z"
    }
   },
   "outputs": [],
   "source": [
    "from sklearn.model_selection import train_test_split\n",
    "X_train, X_test, y_train, y_test = train_test_split(X, y, test_size = 0.3, random_state = 42)"
   ]
  },
  {
   "cell_type": "code",
   "execution_count": 8,
   "metadata": {
    "execution": {
     "iopub.execute_input": "2021-07-06T11:17:21.004264Z",
     "iopub.status.busy": "2021-07-06T11:17:21.004114Z",
     "iopub.status.idle": "2021-07-06T11:17:21.007526Z",
     "shell.execute_reply": "2021-07-06T11:17:21.007027Z",
     "shell.execute_reply.started": "2021-07-06T11:17:21.004247Z"
    }
   },
   "outputs": [
    {
     "data": {
      "text/plain": [
       "(4618, 166)"
      ]
     },
     "execution_count": 8,
     "metadata": {},
     "output_type": "execute_result"
    }
   ],
   "source": [
    "X_train.shape"
   ]
  },
  {
   "cell_type": "code",
   "execution_count": 9,
   "metadata": {
    "execution": {
     "iopub.execute_input": "2021-07-06T11:17:21.009483Z",
     "iopub.status.busy": "2021-07-06T11:17:21.009270Z",
     "iopub.status.idle": "2021-07-06T11:17:21.012442Z",
     "shell.execute_reply": "2021-07-06T11:17:21.012005Z",
     "shell.execute_reply.started": "2021-07-06T11:17:21.009464Z"
    }
   },
   "outputs": [
    {
     "data": {
      "text/plain": [
       "(4618,)"
      ]
     },
     "execution_count": 9,
     "metadata": {},
     "output_type": "execute_result"
    }
   ],
   "source": [
    "y_train.shape"
   ]
  },
  {
   "cell_type": "markdown",
   "metadata": {},
   "source": [
    "# Build and train the model\n"
   ]
  },
  {
   "cell_type": "code",
   "execution_count": 10,
   "metadata": {
    "execution": {
     "iopub.execute_input": "2021-07-06T11:17:21.013531Z",
     "iopub.status.busy": "2021-07-06T11:17:21.013337Z",
     "iopub.status.idle": "2021-07-06T11:17:21.039436Z",
     "shell.execute_reply": "2021-07-06T11:17:21.038975Z",
     "shell.execute_reply.started": "2021-07-06T11:17:21.013513Z"
    }
   },
   "outputs": [],
   "source": [
    "model = tf.keras.models.Sequential([\n",
    "    tf.keras.layers.Dense(33, input_shape=(166,),\n",
    "                          activation=tf.nn.tanh),    \n",
    "    tf.keras.layers.Dense(1, activation=tf.nn.sigmoid)\n",
    "])\n",
    "\n",
    "# compile\n",
    "model.compile(optimizer='adam', loss='binary_crossentropy', metrics=['accuracy'])"
   ]
  },
  {
   "cell_type": "code",
   "execution_count": 11,
   "metadata": {
    "execution": {
     "iopub.execute_input": "2021-07-06T11:17:21.040213Z",
     "iopub.status.busy": "2021-07-06T11:17:21.040064Z",
     "iopub.status.idle": "2021-07-06T11:17:25.319086Z",
     "shell.execute_reply": "2021-07-06T11:17:25.318578Z",
     "shell.execute_reply.started": "2021-07-06T11:17:21.040197Z"
    }
   },
   "outputs": [
    {
     "name": "stdout",
     "output_type": "stream",
     "text": [
      "Epoch 1/15\n",
      "145/145 [==============================] - 1s 2ms/step - loss: 0.4139 - accuracy: 0.8376 - val_loss: 0.2665 - val_accuracy: 0.9152\n",
      "Epoch 2/15\n",
      "145/145 [==============================] - 0s 917us/step - loss: 0.2239 - accuracy: 0.9303 - val_loss: 0.1867 - val_accuracy: 0.9409\n",
      "Epoch 3/15\n",
      "145/145 [==============================] - 0s 1ms/step - loss: 0.1692 - accuracy: 0.9448 - val_loss: 0.1527 - val_accuracy: 0.9500\n",
      "Epoch 4/15\n",
      "145/145 [==============================] - 0s 1ms/step - loss: 0.1403 - accuracy: 0.9543 - val_loss: 0.1312 - val_accuracy: 0.9571\n",
      "Epoch 5/15\n",
      "145/145 [==============================] - 0s 942us/step - loss: 0.1199 - accuracy: 0.9612 - val_loss: 0.1175 - val_accuracy: 0.9626\n",
      "Epoch 6/15\n",
      "145/145 [==============================] - 0s 952us/step - loss: 0.1063 - accuracy: 0.9660 - val_loss: 0.1008 - val_accuracy: 0.9692\n",
      "Epoch 7/15\n",
      "145/145 [==============================] - 0s 1ms/step - loss: 0.0930 - accuracy: 0.9697 - val_loss: 0.0900 - val_accuracy: 0.9717\n",
      "Epoch 8/15\n",
      "145/145 [==============================] - 0s 924us/step - loss: 0.0828 - accuracy: 0.9731 - val_loss: 0.0828 - val_accuracy: 0.9742\n",
      "Epoch 9/15\n",
      "145/145 [==============================] - 0s 931us/step - loss: 0.0746 - accuracy: 0.9731 - val_loss: 0.0748 - val_accuracy: 0.9778\n",
      "Epoch 10/15\n",
      "145/145 [==============================] - 0s 979us/step - loss: 0.0664 - accuracy: 0.9799 - val_loss: 0.0702 - val_accuracy: 0.9773\n",
      "Epoch 11/15\n",
      "145/145 [==============================] - 0s 916us/step - loss: 0.0597 - accuracy: 0.9805 - val_loss: 0.0663 - val_accuracy: 0.9798\n",
      "Epoch 12/15\n",
      "145/145 [==============================] - 0s 938us/step - loss: 0.0531 - accuracy: 0.9829 - val_loss: 0.0598 - val_accuracy: 0.9818\n",
      "Epoch 13/15\n",
      "145/145 [==============================] - 0s 983us/step - loss: 0.0485 - accuracy: 0.9848 - val_loss: 0.0577 - val_accuracy: 0.9818\n",
      "Epoch 14/15\n",
      "145/145 [==============================] - 0s 924us/step - loss: 0.0437 - accuracy: 0.9874 - val_loss: 0.0545 - val_accuracy: 0.9813\n",
      "Epoch 15/15\n",
      "145/145 [==============================] - 0s 973us/step - loss: 0.0393 - accuracy: 0.9911 - val_loss: 0.0498 - val_accuracy: 0.9848\n"
     ]
    }
   ],
   "source": [
    "history = model.fit(X_train, y_train, validation_data = (X_test, y_test), epochs = 15)"
   ]
  },
  {
   "cell_type": "markdown",
   "metadata": {},
   "source": [
    "# Plots"
   ]
  },
  {
   "cell_type": "code",
   "execution_count": 12,
   "metadata": {
    "execution": {
     "iopub.execute_input": "2021-07-06T11:17:25.320225Z",
     "iopub.status.busy": "2021-07-06T11:17:25.320054Z",
     "iopub.status.idle": "2021-07-06T11:17:25.448299Z",
     "shell.execute_reply": "2021-07-06T11:17:25.447819Z",
     "shell.execute_reply.started": "2021-07-06T11:17:25.320206Z"
    }
   },
   "outputs": [
    {
     "data": {
      "image/png": "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\n",
      "text/plain": [
       "<Figure size 432x288 with 1 Axes>"
      ]
     },
     "metadata": {
      "needs_background": "light"
     },
     "output_type": "display_data"
    }
   ],
   "source": [
    "# train_loss vs Val_loss\n",
    "from matplotlib import pyplot as plt\n",
    "plt.plot(history.history['loss'])\n",
    "plt.plot(history.history['val_loss'])\n",
    "plt.title('model loss')\n",
    "plt.ylabel('loss')\n",
    "plt.xlabel('epoch')\n",
    "plt.legend(['train', 'validation'], loc='upper left')\n",
    "plt.show()"
   ]
  },
  {
   "cell_type": "code",
   "execution_count": 13,
   "metadata": {
    "execution": {
     "iopub.execute_input": "2021-07-06T11:17:25.449255Z",
     "iopub.status.busy": "2021-07-06T11:17:25.449095Z",
     "iopub.status.idle": "2021-07-06T11:17:25.574721Z",
     "shell.execute_reply": "2021-07-06T11:17:25.574250Z",
     "shell.execute_reply.started": "2021-07-06T11:17:25.449238Z"
    }
   },
   "outputs": [
    {
     "data": {
      "image/png": "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\n",
      "text/plain": [
       "<Figure size 432x288 with 1 Axes>"
      ]
     },
     "metadata": {
      "needs_background": "light"
     },
     "output_type": "display_data"
    }
   ],
   "source": [
    "# train_accuracy vs val_accuracy\n",
    "from matplotlib import pyplot as plt\n",
    "plt.plot(history.history['accuracy'])\n",
    "plt.plot(history.history['val_accuracy'])\n",
    "plt.title('model accuracy')\n",
    "plt.ylabel('acc')\n",
    "plt.xlabel('epoch')\n",
    "plt.legend(['train', 'validation'], loc='upper left')\n",
    "plt.show()"
   ]
  },
  {
   "cell_type": "code",
   "execution_count": 14,
   "metadata": {
    "execution": {
     "iopub.execute_input": "2021-07-06T11:17:25.575542Z",
     "iopub.status.busy": "2021-07-06T11:17:25.575391Z",
     "iopub.status.idle": "2021-07-06T11:17:25.589529Z",
     "shell.execute_reply": "2021-07-06T11:17:25.589078Z",
     "shell.execute_reply.started": "2021-07-06T11:17:25.575525Z"
    }
   },
   "outputs": [],
   "source": [
    "# Save the model\n",
    "model.save(\"Simple ANN.h5\")"
   ]
  },
  {
   "cell_type": "markdown",
   "metadata": {},
   "source": [
    "# Predictions and Accuracy"
   ]
  },
  {
   "cell_type": "code",
   "execution_count": 15,
   "metadata": {
    "execution": {
     "iopub.execute_input": "2021-07-06T11:17:25.590341Z",
     "iopub.status.busy": "2021-07-06T11:17:25.590189Z",
     "iopub.status.idle": "2021-07-06T11:17:25.682929Z",
     "shell.execute_reply": "2021-07-06T11:17:25.682486Z",
     "shell.execute_reply.started": "2021-07-06T11:17:25.590324Z"
    }
   },
   "outputs": [
    {
     "name": "stdout",
     "output_type": "stream",
     "text": [
      "62/62 [==============================] - 0s 525us/step - loss: 0.0498 - accuracy: 0.9848\n"
     ]
    },
    {
     "data": {
      "text/plain": [
       "[0.049848780035972595, 0.9848484992980957]"
      ]
     },
     "execution_count": 15,
     "metadata": {},
     "output_type": "execute_result"
    }
   ],
   "source": [
    "# accuracy and loss\n",
    "model.evaluate(X_test, y_test)"
   ]
  },
  {
   "cell_type": "code",
   "execution_count": 16,
   "metadata": {
    "execution": {
     "iopub.execute_input": "2021-07-06T11:17:25.683731Z",
     "iopub.status.busy": "2021-07-06T11:17:25.683583Z",
     "iopub.status.idle": "2021-07-06T11:17:25.751213Z",
     "shell.execute_reply": "2021-07-06T11:17:25.750748Z",
     "shell.execute_reply.started": "2021-07-06T11:17:25.683714Z"
    }
   },
   "outputs": [
    {
     "data": {
      "text/plain": [
       "array([[2.9948354e-04],\n",
       "       [3.6733574e-01],\n",
       "       [5.9044659e-03],\n",
       "       [6.4063072e-04],\n",
       "       [2.2011687e-05]], dtype=float32)"
      ]
     },
     "execution_count": 16,
     "metadata": {},
     "output_type": "execute_result"
    }
   ],
   "source": [
    "y_pred = model.predict(X_test)\n",
    "y_pred[5:10]"
   ]
  },
  {
   "cell_type": "code",
   "execution_count": 17,
   "metadata": {
    "execution": {
     "iopub.execute_input": "2021-07-06T11:17:25.752033Z",
     "iopub.status.busy": "2021-07-06T11:17:25.751879Z",
     "iopub.status.idle": "2021-07-06T11:17:25.757249Z",
     "shell.execute_reply": "2021-07-06T11:17:25.756720Z",
     "shell.execute_reply.started": "2021-07-06T11:17:25.752016Z"
    }
   },
   "outputs": [],
   "source": [
    "y_pred1 = []\n",
    "for element in y_pred:\n",
    "    if element > 0.5:\n",
    "        y_pred1.append(1)\n",
    "    else:\n",
    "        y_pred1.append(0)"
   ]
  },
  {
   "cell_type": "code",
   "execution_count": 18,
   "metadata": {
    "execution": {
     "iopub.execute_input": "2021-07-06T11:17:25.757999Z",
     "iopub.status.busy": "2021-07-06T11:17:25.757858Z",
     "iopub.status.idle": "2021-07-06T11:17:25.762519Z",
     "shell.execute_reply": "2021-07-06T11:17:25.762079Z",
     "shell.execute_reply.started": "2021-07-06T11:17:25.757983Z"
    }
   },
   "outputs": [
    {
     "data": {
      "text/plain": [
       "[0, 0, 0, 0, 0, 0, 0, 0, 0, 0, 1, 0, 0, 0, 0]"
      ]
     },
     "execution_count": 18,
     "metadata": {},
     "output_type": "execute_result"
    }
   ],
   "source": [
    "y_pred1[25:40]"
   ]
  },
  {
   "cell_type": "code",
   "execution_count": 19,
   "metadata": {
    "execution": {
     "iopub.execute_input": "2021-07-06T11:17:25.763262Z",
     "iopub.status.busy": "2021-07-06T11:17:25.763111Z",
     "iopub.status.idle": "2021-07-06T11:17:25.767231Z",
     "shell.execute_reply": "2021-07-06T11:17:25.766813Z",
     "shell.execute_reply.started": "2021-07-06T11:17:25.763245Z"
    }
   },
   "outputs": [
    {
     "data": {
      "text/plain": [
       "array([0, 0, 0, 0, 0, 0, 0, 0, 0, 0, 1, 0, 0, 0, 0], dtype=int64)"
      ]
     },
     "execution_count": 19,
     "metadata": {},
     "output_type": "execute_result"
    }
   ],
   "source": [
    "y_test[25:40]"
   ]
  },
  {
   "cell_type": "code",
   "execution_count": 20,
   "metadata": {
    "execution": {
     "iopub.execute_input": "2021-07-06T11:17:25.768073Z",
     "iopub.status.busy": "2021-07-06T11:17:25.767919Z",
     "iopub.status.idle": "2021-07-06T11:17:25.776914Z",
     "shell.execute_reply": "2021-07-06T11:17:25.776454Z",
     "shell.execute_reply.started": "2021-07-06T11:17:25.768056Z"
    }
   },
   "outputs": [
    {
     "name": "stdout",
     "output_type": "stream",
     "text": [
      "              precision    recall  f1-score   support\n",
      "\n",
      "           0       0.99      0.99      0.99      1673\n",
      "           1       0.97      0.93      0.95       307\n",
      "\n",
      "    accuracy                           0.98      1980\n",
      "   macro avg       0.98      0.96      0.97      1980\n",
      "weighted avg       0.98      0.98      0.98      1980\n",
      "\n"
     ]
    }
   ],
   "source": [
    "# print the classification report\n",
    "from sklearn.metrics import classification_report, confusion_matrix \n",
    "print(classification_report(y_test,y_pred1))"
   ]
  },
  {
   "cell_type": "markdown",
   "metadata": {},
   "source": [
    "# Heat Map"
   ]
  },
  {
   "cell_type": "code",
   "execution_count": 21,
   "metadata": {
    "execution": {
     "iopub.execute_input": "2021-07-06T11:17:25.777672Z",
     "iopub.status.busy": "2021-07-06T11:17:25.777522Z",
     "iopub.status.idle": "2021-07-06T11:17:26.053655Z",
     "shell.execute_reply": "2021-07-06T11:17:26.053179Z",
     "shell.execute_reply.started": "2021-07-06T11:17:25.777656Z"
    }
   },
   "outputs": [
    {
     "data": {
      "text/plain": [
       "Text(69.0, 0.5, 'actual')"
      ]
     },
     "execution_count": 21,
     "metadata": {},
     "output_type": "execute_result"
    },
    {
     "data": {
      "image/png": "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\n",
      "text/plain": [
       "<Figure size 720x576 with 2 Axes>"
      ]
     },
     "metadata": {
      "needs_background": "light"
     },
     "output_type": "display_data"
    }
   ],
   "source": [
    "import seaborn as sn\n",
    "\n",
    "cm = tf.math.confusion_matrix(labels = y_test, predictions = y_pred1)\n",
    "\n",
    "plt.figure(figsize = (10,8))\n",
    "sn.heatmap(cm, annot = True, fmt = 'd')\n",
    "plt.xlabel(\"predicted\")\n",
    "plt.ylabel(\"actual\")"
   ]
  },
  {
   "cell_type": "code",
   "execution_count": null,
   "metadata": {},
   "outputs": [],
   "source": []
  },
  {
   "cell_type": "code",
   "execution_count": 47,
   "metadata": {
    "execution": {
     "iopub.execute_input": "2021-07-06T11:17:20.657805Z",
     "iopub.status.busy": "2021-07-06T11:17:20.657582Z",
     "iopub.status.idle": "2021-07-06T11:17:20.660195Z",
     "shell.execute_reply": "2021-07-06T11:17:20.659693Z",
     "shell.execute_reply.started": "2021-07-06T11:17:20.657784Z"
    }
   },
   "outputs": [],
   "source": [
    "# dataset download link: https://datahub.io/machine-learning/musk"
    "# medium article: https://medium.com/ai-techsystems/classification-on-organic-compounds-e0998487aabd"
   ]
  }
 ],
 "metadata": {
  "kernelspec": {
   "display_name": "Python 3",
   "language": "python",
   "name": "python3"
  },
  "language_info": {
   "codemirror_mode": {
    "name": "ipython",
    "version": 3
   },
   "file_extension": ".py",
   "mimetype": "text/x-python",
   "name": "python",
   "nbconvert_exporter": "python",
   "pygments_lexer": "ipython3",
   "version": "3.8.8"
  }
 },
 "nbformat": 4,
 "nbformat_minor": 4
}
