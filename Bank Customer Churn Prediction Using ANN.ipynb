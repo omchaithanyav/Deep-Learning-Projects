{
 "cells": [
  {
   "cell_type": "code",
   "execution_count": 3,
   "id": "b281fc10",
   "metadata": {},
   "outputs": [],
   "source": [
    "import numpy as np\n",
    "import pandas as pd\n",
    "import os\n",
    "from matplotlib import pyplot as plt\n",
    "%matplotlib inline"
   ]
  },
  {
   "cell_type": "code",
   "execution_count": 4,
   "id": "70a953fc",
   "metadata": {},
   "outputs": [
    {
     "data": {
      "text/html": [
       "<div>\n",
       "<style scoped>\n",
       "    .dataframe tbody tr th:only-of-type {\n",
       "        vertical-align: middle;\n",
       "    }\n",
       "\n",
       "    .dataframe tbody tr th {\n",
       "        vertical-align: top;\n",
       "    }\n",
       "\n",
       "    .dataframe thead th {\n",
       "        text-align: right;\n",
       "    }\n",
       "</style>\n",
       "<table border=\"1\" class=\"dataframe\">\n",
       "  <thead>\n",
       "    <tr style=\"text-align: right;\">\n",
       "      <th></th>\n",
       "      <th>RowNumber</th>\n",
       "      <th>CustomerId</th>\n",
       "      <th>Surname</th>\n",
       "      <th>CreditScore</th>\n",
       "      <th>Geography</th>\n",
       "      <th>Gender</th>\n",
       "      <th>Age</th>\n",
       "      <th>Tenure</th>\n",
       "      <th>Balance</th>\n",
       "      <th>NumOfProducts</th>\n",
       "      <th>HasCrCard</th>\n",
       "      <th>IsActiveMember</th>\n",
       "      <th>EstimatedSalary</th>\n",
       "      <th>Exited</th>\n",
       "    </tr>\n",
       "  </thead>\n",
       "  <tbody>\n",
       "    <tr>\n",
       "      <th>0</th>\n",
       "      <td>1</td>\n",
       "      <td>15634602</td>\n",
       "      <td>Hargrave</td>\n",
       "      <td>619</td>\n",
       "      <td>France</td>\n",
       "      <td>Female</td>\n",
       "      <td>42</td>\n",
       "      <td>2</td>\n",
       "      <td>0.00</td>\n",
       "      <td>1</td>\n",
       "      <td>1</td>\n",
       "      <td>1</td>\n",
       "      <td>101348.88</td>\n",
       "      <td>1</td>\n",
       "    </tr>\n",
       "    <tr>\n",
       "      <th>1</th>\n",
       "      <td>2</td>\n",
       "      <td>15647311</td>\n",
       "      <td>Hill</td>\n",
       "      <td>608</td>\n",
       "      <td>Spain</td>\n",
       "      <td>Female</td>\n",
       "      <td>41</td>\n",
       "      <td>1</td>\n",
       "      <td>83807.86</td>\n",
       "      <td>1</td>\n",
       "      <td>0</td>\n",
       "      <td>1</td>\n",
       "      <td>112542.58</td>\n",
       "      <td>0</td>\n",
       "    </tr>\n",
       "    <tr>\n",
       "      <th>2</th>\n",
       "      <td>3</td>\n",
       "      <td>15619304</td>\n",
       "      <td>Onio</td>\n",
       "      <td>502</td>\n",
       "      <td>France</td>\n",
       "      <td>Female</td>\n",
       "      <td>42</td>\n",
       "      <td>8</td>\n",
       "      <td>159660.80</td>\n",
       "      <td>3</td>\n",
       "      <td>1</td>\n",
       "      <td>0</td>\n",
       "      <td>113931.57</td>\n",
       "      <td>1</td>\n",
       "    </tr>\n",
       "    <tr>\n",
       "      <th>3</th>\n",
       "      <td>4</td>\n",
       "      <td>15701354</td>\n",
       "      <td>Boni</td>\n",
       "      <td>699</td>\n",
       "      <td>France</td>\n",
       "      <td>Female</td>\n",
       "      <td>39</td>\n",
       "      <td>1</td>\n",
       "      <td>0.00</td>\n",
       "      <td>2</td>\n",
       "      <td>0</td>\n",
       "      <td>0</td>\n",
       "      <td>93826.63</td>\n",
       "      <td>0</td>\n",
       "    </tr>\n",
       "    <tr>\n",
       "      <th>4</th>\n",
       "      <td>5</td>\n",
       "      <td>15737888</td>\n",
       "      <td>Mitchell</td>\n",
       "      <td>850</td>\n",
       "      <td>Spain</td>\n",
       "      <td>Female</td>\n",
       "      <td>43</td>\n",
       "      <td>2</td>\n",
       "      <td>125510.82</td>\n",
       "      <td>1</td>\n",
       "      <td>1</td>\n",
       "      <td>1</td>\n",
       "      <td>79084.10</td>\n",
       "      <td>0</td>\n",
       "    </tr>\n",
       "  </tbody>\n",
       "</table>\n",
       "</div>"
      ],
      "text/plain": [
       "   RowNumber  CustomerId   Surname  CreditScore Geography  Gender  Age  \\\n",
       "0          1    15634602  Hargrave          619    France  Female   42   \n",
       "1          2    15647311      Hill          608     Spain  Female   41   \n",
       "2          3    15619304      Onio          502    France  Female   42   \n",
       "3          4    15701354      Boni          699    France  Female   39   \n",
       "4          5    15737888  Mitchell          850     Spain  Female   43   \n",
       "\n",
       "   Tenure    Balance  NumOfProducts  HasCrCard  IsActiveMember  \\\n",
       "0       2       0.00              1          1               1   \n",
       "1       1   83807.86              1          0               1   \n",
       "2       8  159660.80              3          1               0   \n",
       "3       1       0.00              2          0               0   \n",
       "4       2  125510.82              1          1               1   \n",
       "\n",
       "   EstimatedSalary  Exited  \n",
       "0        101348.88       1  \n",
       "1        112542.58       0  \n",
       "2        113931.57       1  \n",
       "3         93826.63       0  \n",
       "4         79084.10       0  "
      ]
     },
     "execution_count": 4,
     "metadata": {},
     "output_type": "execute_result"
    }
   ],
   "source": [
    "# import data file:\n",
    "os.chdir(r'D:\\My py files\\Data files\\Data Sets')\n",
    "df = pd.read_csv('Churn_Modelling.csv')\n",
    "df.head()"
   ]
  },
  {
   "cell_type": "code",
   "execution_count": 5,
   "id": "acbf9689",
   "metadata": {},
   "outputs": [],
   "source": [
    "# drop columns that are of no use:\n",
    "\n",
    "df.drop(df[['RowNumber', 'CustomerId', 'Surname']], axis = 'columns', inplace = True)"
   ]
  },
  {
   "cell_type": "code",
   "execution_count": 6,
   "id": "9e5f1412",
   "metadata": {},
   "outputs": [
    {
     "data": {
      "text/plain": [
       "CreditScore          int64\n",
       "Geography           object\n",
       "Gender              object\n",
       "Age                  int64\n",
       "Tenure               int64\n",
       "Balance            float64\n",
       "NumOfProducts        int64\n",
       "HasCrCard            int64\n",
       "IsActiveMember       int64\n",
       "EstimatedSalary    float64\n",
       "Exited               int64\n",
       "dtype: object"
      ]
     },
     "execution_count": 6,
     "metadata": {},
     "output_type": "execute_result"
    }
   ],
   "source": [
    "df.dtypes"
   ]
  },
  {
   "cell_type": "code",
   "execution_count": 7,
   "id": "cb84d27c",
   "metadata": {},
   "outputs": [
    {
     "data": {
      "text/plain": [
       "(10000, 11)"
      ]
     },
     "execution_count": 7,
     "metadata": {},
     "output_type": "execute_result"
    }
   ],
   "source": [
    "df.shape"
   ]
  },
  {
   "cell_type": "code",
   "execution_count": 8,
   "id": "ab16687e",
   "metadata": {},
   "outputs": [
    {
     "data": {
      "text/html": [
       "<div>\n",
       "<style scoped>\n",
       "    .dataframe tbody tr th:only-of-type {\n",
       "        vertical-align: middle;\n",
       "    }\n",
       "\n",
       "    .dataframe tbody tr th {\n",
       "        vertical-align: top;\n",
       "    }\n",
       "\n",
       "    .dataframe thead th {\n",
       "        text-align: right;\n",
       "    }\n",
       "</style>\n",
       "<table border=\"1\" class=\"dataframe\">\n",
       "  <thead>\n",
       "    <tr style=\"text-align: right;\">\n",
       "      <th></th>\n",
       "      <th>CreditScore</th>\n",
       "      <th>Geography</th>\n",
       "      <th>Gender</th>\n",
       "      <th>Age</th>\n",
       "      <th>Tenure</th>\n",
       "      <th>Balance</th>\n",
       "      <th>NumOfProducts</th>\n",
       "      <th>HasCrCard</th>\n",
       "      <th>IsActiveMember</th>\n",
       "      <th>EstimatedSalary</th>\n",
       "      <th>Exited</th>\n",
       "    </tr>\n",
       "  </thead>\n",
       "  <tbody>\n",
       "    <tr>\n",
       "      <th>0</th>\n",
       "      <td>619</td>\n",
       "      <td>France</td>\n",
       "      <td>Female</td>\n",
       "      <td>42</td>\n",
       "      <td>2</td>\n",
       "      <td>0.00</td>\n",
       "      <td>1</td>\n",
       "      <td>1</td>\n",
       "      <td>1</td>\n",
       "      <td>101348.88</td>\n",
       "      <td>1</td>\n",
       "    </tr>\n",
       "    <tr>\n",
       "      <th>2</th>\n",
       "      <td>502</td>\n",
       "      <td>France</td>\n",
       "      <td>Female</td>\n",
       "      <td>42</td>\n",
       "      <td>8</td>\n",
       "      <td>159660.80</td>\n",
       "      <td>3</td>\n",
       "      <td>1</td>\n",
       "      <td>0</td>\n",
       "      <td>113931.57</td>\n",
       "      <td>1</td>\n",
       "    </tr>\n",
       "    <tr>\n",
       "      <th>5</th>\n",
       "      <td>645</td>\n",
       "      <td>Spain</td>\n",
       "      <td>Male</td>\n",
       "      <td>44</td>\n",
       "      <td>8</td>\n",
       "      <td>113755.78</td>\n",
       "      <td>2</td>\n",
       "      <td>1</td>\n",
       "      <td>0</td>\n",
       "      <td>149756.71</td>\n",
       "      <td>1</td>\n",
       "    </tr>\n",
       "    <tr>\n",
       "      <th>7</th>\n",
       "      <td>376</td>\n",
       "      <td>Germany</td>\n",
       "      <td>Female</td>\n",
       "      <td>29</td>\n",
       "      <td>4</td>\n",
       "      <td>115046.74</td>\n",
       "      <td>4</td>\n",
       "      <td>1</td>\n",
       "      <td>0</td>\n",
       "      <td>119346.88</td>\n",
       "      <td>1</td>\n",
       "    </tr>\n",
       "    <tr>\n",
       "      <th>16</th>\n",
       "      <td>653</td>\n",
       "      <td>Germany</td>\n",
       "      <td>Male</td>\n",
       "      <td>58</td>\n",
       "      <td>1</td>\n",
       "      <td>132602.88</td>\n",
       "      <td>1</td>\n",
       "      <td>1</td>\n",
       "      <td>0</td>\n",
       "      <td>5097.67</td>\n",
       "      <td>1</td>\n",
       "    </tr>\n",
       "    <tr>\n",
       "      <th>...</th>\n",
       "      <td>...</td>\n",
       "      <td>...</td>\n",
       "      <td>...</td>\n",
       "      <td>...</td>\n",
       "      <td>...</td>\n",
       "      <td>...</td>\n",
       "      <td>...</td>\n",
       "      <td>...</td>\n",
       "      <td>...</td>\n",
       "      <td>...</td>\n",
       "      <td>...</td>\n",
       "    </tr>\n",
       "    <tr>\n",
       "      <th>9981</th>\n",
       "      <td>498</td>\n",
       "      <td>Germany</td>\n",
       "      <td>Male</td>\n",
       "      <td>42</td>\n",
       "      <td>3</td>\n",
       "      <td>152039.70</td>\n",
       "      <td>1</td>\n",
       "      <td>1</td>\n",
       "      <td>1</td>\n",
       "      <td>53445.17</td>\n",
       "      <td>1</td>\n",
       "    </tr>\n",
       "    <tr>\n",
       "      <th>9982</th>\n",
       "      <td>655</td>\n",
       "      <td>Germany</td>\n",
       "      <td>Female</td>\n",
       "      <td>46</td>\n",
       "      <td>7</td>\n",
       "      <td>137145.12</td>\n",
       "      <td>1</td>\n",
       "      <td>1</td>\n",
       "      <td>0</td>\n",
       "      <td>115146.40</td>\n",
       "      <td>1</td>\n",
       "    </tr>\n",
       "    <tr>\n",
       "      <th>9991</th>\n",
       "      <td>597</td>\n",
       "      <td>France</td>\n",
       "      <td>Female</td>\n",
       "      <td>53</td>\n",
       "      <td>4</td>\n",
       "      <td>88381.21</td>\n",
       "      <td>1</td>\n",
       "      <td>1</td>\n",
       "      <td>0</td>\n",
       "      <td>69384.71</td>\n",
       "      <td>1</td>\n",
       "    </tr>\n",
       "    <tr>\n",
       "      <th>9997</th>\n",
       "      <td>709</td>\n",
       "      <td>France</td>\n",
       "      <td>Female</td>\n",
       "      <td>36</td>\n",
       "      <td>7</td>\n",
       "      <td>0.00</td>\n",
       "      <td>1</td>\n",
       "      <td>0</td>\n",
       "      <td>1</td>\n",
       "      <td>42085.58</td>\n",
       "      <td>1</td>\n",
       "    </tr>\n",
       "    <tr>\n",
       "      <th>9998</th>\n",
       "      <td>772</td>\n",
       "      <td>Germany</td>\n",
       "      <td>Male</td>\n",
       "      <td>42</td>\n",
       "      <td>3</td>\n",
       "      <td>75075.31</td>\n",
       "      <td>2</td>\n",
       "      <td>1</td>\n",
       "      <td>0</td>\n",
       "      <td>92888.52</td>\n",
       "      <td>1</td>\n",
       "    </tr>\n",
       "  </tbody>\n",
       "</table>\n",
       "<p>2037 rows × 11 columns</p>\n",
       "</div>"
      ],
      "text/plain": [
       "      CreditScore Geography  Gender  Age  Tenure    Balance  NumOfProducts  \\\n",
       "0             619    France  Female   42       2       0.00              1   \n",
       "2             502    France  Female   42       8  159660.80              3   \n",
       "5             645     Spain    Male   44       8  113755.78              2   \n",
       "7             376   Germany  Female   29       4  115046.74              4   \n",
       "16            653   Germany    Male   58       1  132602.88              1   \n",
       "...           ...       ...     ...  ...     ...        ...            ...   \n",
       "9981          498   Germany    Male   42       3  152039.70              1   \n",
       "9982          655   Germany  Female   46       7  137145.12              1   \n",
       "9991          597    France  Female   53       4   88381.21              1   \n",
       "9997          709    France  Female   36       7       0.00              1   \n",
       "9998          772   Germany    Male   42       3   75075.31              2   \n",
       "\n",
       "      HasCrCard  IsActiveMember  EstimatedSalary  Exited  \n",
       "0             1               1        101348.88       1  \n",
       "2             1               0        113931.57       1  \n",
       "5             1               0        149756.71       1  \n",
       "7             1               0        119346.88       1  \n",
       "16            1               0          5097.67       1  \n",
       "...         ...             ...              ...     ...  \n",
       "9981          1               1         53445.17       1  \n",
       "9982          1               0        115146.40       1  \n",
       "9991          1               0         69384.71       1  \n",
       "9997          0               1         42085.58       1  \n",
       "9998          1               0         92888.52       1  \n",
       "\n",
       "[2037 rows x 11 columns]"
      ]
     },
     "execution_count": 8,
     "metadata": {},
     "output_type": "execute_result"
    }
   ],
   "source": [
    "df[df.Exited == 1]"
   ]
  },
  {
   "cell_type": "markdown",
   "id": "241c5779",
   "metadata": {},
   "source": [
    "# Visualization"
   ]
  },
  {
   "cell_type": "code",
   "execution_count": 9,
   "id": "f24d462d",
   "metadata": {},
   "outputs": [
    {
     "data": {
      "text/plain": [
       "<matplotlib.legend.Legend at 0x200407725e0>"
      ]
     },
     "execution_count": 9,
     "metadata": {},
     "output_type": "execute_result"
    },
    {
     "data": {
      "image/png": "[encoded data removed]",
      "text/plain": [
       "<Figure size 432x288 with 1 Axes>"
      ]
     },
     "metadata": {
      "needs_background": "light"
     },
     "output_type": "display_data"
    }
   ],
   "source": [
    "Exited_yes = df[df.Exited == 1].Tenure\n",
    "Exited_no = df[df.Exited == 0].Tenure\n",
    "\n",
    "plt.xlabel(\"tenture\")\n",
    "plt.ylabel(\"Number of Customers\")\n",
    "plt.title(\"Bank Customer Churn Prediction\")\n",
    "\n",
    "plt.hist([Exited_yes, Exited_no], rwidth=0.95, color=['r','b'],label=['Exited=Yes','Exited=No'])\n",
    "plt.legend()"
   ]
  },
  {
   "cell_type": "code",
   "execution_count": 10,
   "id": "4160e92c",
   "metadata": {},
   "outputs": [
    {
     "data": {
      "text/plain": [
       "<matplotlib.legend.Legend at 0x200406b75b0>"
      ]
     },
     "execution_count": 10,
     "metadata": {},
     "output_type": "execute_result"
    },
    {
     "data": {
      "image/png": "[encoded data removed]",
      "text/plain": [
       "<Figure size 432x288 with 1 Axes>"
      ]
     },
     "metadata": {
      "needs_background": "light"
     },
     "output_type": "display_data"
    }
   ],
   "source": [
    "Exited_yes = df[df.Exited == 1].CreditScore\n",
    "Exited_no = df[df.Exited == 0].CreditScore\n",
    "\n",
    "plt.xlabel(\"CreditScore\")\n",
    "plt.ylabel(\"Number of Customers\")\n",
    "plt.title(\"Bank Customer Churn Prediction\")\n",
    "\n",
    "plt.hist([Exited_yes, Exited_no], rwidth=0.95, color=['r','b'],label=['Exited=Yes','Exited=No'])\n",
    "plt.legend()"
   ]
  },
  {
   "cell_type": "raw",
   "id": "a4f7bd7b",
   "metadata": {},
   "source": [
    "# Converting categorical values to numbers"
   ]
  },
  {
   "cell_type": "code",
   "execution_count": 11,
   "id": "0c50f7cd",
   "metadata": {},
   "outputs": [
    {
     "data": {
      "text/plain": [
       "array(['France', 'Spain', 'Germany'], dtype=object)"
      ]
     },
     "execution_count": 11,
     "metadata": {},
     "output_type": "execute_result"
    }
   ],
   "source": [
    "df['Geography'].unique() "
   ]
  },
  {
   "cell_type": "code",
   "execution_count": 12,
   "id": "183caeee",
   "metadata": {},
   "outputs": [
    {
     "data": {
      "text/plain": [
       "array(['Female', 'Male'], dtype=object)"
      ]
     },
     "execution_count": 12,
     "metadata": {},
     "output_type": "execute_result"
    }
   ],
   "source": [
    "df['Gender'].unique() "
   ]
  },
  {
   "cell_type": "code",
   "execution_count": 13,
   "id": "dd149fec",
   "metadata": {},
   "outputs": [],
   "source": [
    "df['Gender'].replace({'Female': 1,'Male': 0},inplace=True)"
   ]
  },
  {
   "cell_type": "raw",
   "id": "e414a2ba",
   "metadata": {},
   "source": [
    "# One hot encoding for Geography column:"
   ]
  },
  {
   "cell_type": "code",
   "execution_count": 14,
   "id": "41b9fded",
   "metadata": {},
   "outputs": [
    {
     "data": {
      "text/plain": [
       "Index(['CreditScore', 'Gender', 'Age', 'Tenure', 'Balance', 'NumOfProducts',\n",
       "       'HasCrCard', 'IsActiveMember', 'EstimatedSalary', 'Exited',\n",
       "       'Geography_France', 'Geography_Germany', 'Geography_Spain'],\n",
       "      dtype='object')"
      ]
     },
     "execution_count": 14,
     "metadata": {},
     "output_type": "execute_result"
    }
   ],
   "source": [
    "df1 = pd.get_dummies(data = df, columns = ['Geography'])\n",
    "df1.columns"
   ]
  },
  {
   "cell_type": "code",
   "execution_count": 15,
   "id": "095f6e9e",
   "metadata": {},
   "outputs": [
    {
     "data": {
      "text/html": [
       "<div>\n",
       "<style scoped>\n",
       "    .dataframe tbody tr th:only-of-type {\n",
       "        vertical-align: middle;\n",
       "    }\n",
       "\n",
       "    .dataframe tbody tr th {\n",
       "        vertical-align: top;\n",
       "    }\n",
       "\n",
       "    .dataframe thead th {\n",
       "        text-align: right;\n",
       "    }\n",
       "</style>\n",
       "<table border=\"1\" class=\"dataframe\">\n",
       "  <thead>\n",
       "    <tr style=\"text-align: right;\">\n",
       "      <th></th>\n",
       "      <th>CreditScore</th>\n",
       "      <th>Gender</th>\n",
       "      <th>Age</th>\n",
       "      <th>Tenure</th>\n",
       "      <th>Balance</th>\n",
       "      <th>NumOfProducts</th>\n",
       "      <th>HasCrCard</th>\n",
       "      <th>IsActiveMember</th>\n",
       "      <th>EstimatedSalary</th>\n",
       "      <th>Exited</th>\n",
       "      <th>Geography_France</th>\n",
       "      <th>Geography_Germany</th>\n",
       "      <th>Geography_Spain</th>\n",
       "    </tr>\n",
       "  </thead>\n",
       "  <tbody>\n",
       "    <tr>\n",
       "      <th>0</th>\n",
       "      <td>619</td>\n",
       "      <td>1</td>\n",
       "      <td>42</td>\n",
       "      <td>2</td>\n",
       "      <td>0.00</td>\n",
       "      <td>1</td>\n",
       "      <td>1</td>\n",
       "      <td>1</td>\n",
       "      <td>101348.88</td>\n",
       "      <td>1</td>\n",
       "      <td>1</td>\n",
       "      <td>0</td>\n",
       "      <td>0</td>\n",
       "    </tr>\n",
       "    <tr>\n",
       "      <th>1</th>\n",
       "      <td>608</td>\n",
       "      <td>1</td>\n",
       "      <td>41</td>\n",
       "      <td>1</td>\n",
       "      <td>83807.86</td>\n",
       "      <td>1</td>\n",
       "      <td>0</td>\n",
       "      <td>1</td>\n",
       "      <td>112542.58</td>\n",
       "      <td>0</td>\n",
       "      <td>0</td>\n",
       "      <td>0</td>\n",
       "      <td>1</td>\n",
       "    </tr>\n",
       "    <tr>\n",
       "      <th>2</th>\n",
       "      <td>502</td>\n",
       "      <td>1</td>\n",
       "      <td>42</td>\n",
       "      <td>8</td>\n",
       "      <td>159660.80</td>\n",
       "      <td>3</td>\n",
       "      <td>1</td>\n",
       "      <td>0</td>\n",
       "      <td>113931.57</td>\n",
       "      <td>1</td>\n",
       "      <td>1</td>\n",
       "      <td>0</td>\n",
       "      <td>0</td>\n",
       "    </tr>\n",
       "    <tr>\n",
       "      <th>3</th>\n",
       "      <td>699</td>\n",
       "      <td>1</td>\n",
       "      <td>39</td>\n",
       "      <td>1</td>\n",
       "      <td>0.00</td>\n",
       "      <td>2</td>\n",
       "      <td>0</td>\n",
       "      <td>0</td>\n",
       "      <td>93826.63</td>\n",
       "      <td>0</td>\n",
       "      <td>1</td>\n",
       "      <td>0</td>\n",
       "      <td>0</td>\n",
       "    </tr>\n",
       "    <tr>\n",
       "      <th>4</th>\n",
       "      <td>850</td>\n",
       "      <td>1</td>\n",
       "      <td>43</td>\n",
       "      <td>2</td>\n",
       "      <td>125510.82</td>\n",
       "      <td>1</td>\n",
       "      <td>1</td>\n",
       "      <td>1</td>\n",
       "      <td>79084.10</td>\n",
       "      <td>0</td>\n",
       "      <td>0</td>\n",
       "      <td>0</td>\n",
       "      <td>1</td>\n",
       "    </tr>\n",
       "  </tbody>\n",
       "</table>\n",
       "</div>"
      ],
      "text/plain": [
       "   CreditScore  Gender  Age  Tenure    Balance  NumOfProducts  HasCrCard  \\\n",
       "0          619       1   42       2       0.00              1          1   \n",
       "1          608       1   41       1   83807.86              1          0   \n",
       "2          502       1   42       8  159660.80              3          1   \n",
       "3          699       1   39       1       0.00              2          0   \n",
       "4          850       1   43       2  125510.82              1          1   \n",
       "\n",
       "   IsActiveMember  EstimatedSalary  Exited  Geography_France  \\\n",
       "0               1        101348.88       1                 1   \n",
       "1               1        112542.58       0                 0   \n",
       "2               0        113931.57       1                 1   \n",
       "3               0         93826.63       0                 1   \n",
       "4               1         79084.10       0                 0   \n",
       "\n",
       "   Geography_Germany  Geography_Spain  \n",
       "0                  0                0  \n",
       "1                  0                1  \n",
       "2                  0                0  \n",
       "3                  0                0  \n",
       "4                  0                1  "
      ]
     },
     "execution_count": 15,
     "metadata": {},
     "output_type": "execute_result"
    }
   ],
   "source": [
    "df1.head()"
   ]
  },
  {
   "cell_type": "code",
   "execution_count": 16,
   "id": "1ace9d00",
   "metadata": {},
   "outputs": [
    {
     "data": {
      "text/plain": [
       "CreditScore            int64\n",
       "Gender                 int64\n",
       "Age                    int64\n",
       "Tenure                 int64\n",
       "Balance              float64\n",
       "NumOfProducts          int64\n",
       "HasCrCard              int64\n",
       "IsActiveMember         int64\n",
       "EstimatedSalary      float64\n",
       "Exited                 int64\n",
       "Geography_France       uint8\n",
       "Geography_Germany      uint8\n",
       "Geography_Spain        uint8\n",
       "dtype: object"
      ]
     },
     "execution_count": 16,
     "metadata": {},
     "output_type": "execute_result"
    }
   ],
   "source": [
    "df1.dtypes # all features now have integer values "
   ]
  },
  {
   "cell_type": "code",
   "execution_count": 17,
   "id": "31e17230",
   "metadata": {},
   "outputs": [],
   "source": [
    "cols_to_scale = ['CreditScore', 'Age', 'Tenure', 'Balance', 'NumOfProducts', 'EstimatedSalary']"
   ]
  },
  {
   "cell_type": "code",
   "execution_count": 18,
   "id": "7448c16c",
   "metadata": {},
   "outputs": [],
   "source": [
    "from sklearn.preprocessing import MinMaxScaler\n",
    "\n",
    "scale = MinMaxScaler()\n",
    "df1[cols_to_scale] = scale.fit_transform(df1[cols_to_scale])"
   ]
  },
  {
   "cell_type": "code",
   "execution_count": 19,
   "id": "86f8b463",
   "metadata": {},
   "outputs": [
    {
     "data": {
      "text/html": [
       "<div>\n",
       "<style scoped>\n",
       "    .dataframe tbody tr th:only-of-type {\n",
       "        vertical-align: middle;\n",
       "    }\n",
       "\n",
       "    .dataframe tbody tr th {\n",
       "        vertical-align: top;\n",
       "    }\n",
       "\n",
       "    .dataframe thead th {\n",
       "        text-align: right;\n",
       "    }\n",
       "</style>\n",
       "<table border=\"1\" class=\"dataframe\">\n",
       "  <thead>\n",
       "    <tr style=\"text-align: right;\">\n",
       "      <th></th>\n",
       "      <th>CreditScore</th>\n",
       "      <th>Gender</th>\n",
       "      <th>Age</th>\n",
       "      <th>Tenure</th>\n",
       "      <th>Balance</th>\n",
       "      <th>NumOfProducts</th>\n",
       "      <th>HasCrCard</th>\n",
       "      <th>IsActiveMember</th>\n",
       "      <th>EstimatedSalary</th>\n",
       "      <th>Exited</th>\n",
       "      <th>Geography_France</th>\n",
       "      <th>Geography_Germany</th>\n",
       "      <th>Geography_Spain</th>\n",
       "    </tr>\n",
       "  </thead>\n",
       "  <tbody>\n",
       "    <tr>\n",
       "      <th>0</th>\n",
       "      <td>0.538</td>\n",
       "      <td>1</td>\n",
       "      <td>0.324324</td>\n",
       "      <td>0.2</td>\n",
       "      <td>0.000000</td>\n",
       "      <td>0.000000</td>\n",
       "      <td>1</td>\n",
       "      <td>1</td>\n",
       "      <td>0.506735</td>\n",
       "      <td>1</td>\n",
       "      <td>1</td>\n",
       "      <td>0</td>\n",
       "      <td>0</td>\n",
       "    </tr>\n",
       "    <tr>\n",
       "      <th>1</th>\n",
       "      <td>0.516</td>\n",
       "      <td>1</td>\n",
       "      <td>0.310811</td>\n",
       "      <td>0.1</td>\n",
       "      <td>0.334031</td>\n",
       "      <td>0.000000</td>\n",
       "      <td>0</td>\n",
       "      <td>1</td>\n",
       "      <td>0.562709</td>\n",
       "      <td>0</td>\n",
       "      <td>0</td>\n",
       "      <td>0</td>\n",
       "      <td>1</td>\n",
       "    </tr>\n",
       "    <tr>\n",
       "      <th>2</th>\n",
       "      <td>0.304</td>\n",
       "      <td>1</td>\n",
       "      <td>0.324324</td>\n",
       "      <td>0.8</td>\n",
       "      <td>0.636357</td>\n",
       "      <td>0.666667</td>\n",
       "      <td>1</td>\n",
       "      <td>0</td>\n",
       "      <td>0.569654</td>\n",
       "      <td>1</td>\n",
       "      <td>1</td>\n",
       "      <td>0</td>\n",
       "      <td>0</td>\n",
       "    </tr>\n",
       "    <tr>\n",
       "      <th>3</th>\n",
       "      <td>0.698</td>\n",
       "      <td>1</td>\n",
       "      <td>0.283784</td>\n",
       "      <td>0.1</td>\n",
       "      <td>0.000000</td>\n",
       "      <td>0.333333</td>\n",
       "      <td>0</td>\n",
       "      <td>0</td>\n",
       "      <td>0.469120</td>\n",
       "      <td>0</td>\n",
       "      <td>1</td>\n",
       "      <td>0</td>\n",
       "      <td>0</td>\n",
       "    </tr>\n",
       "    <tr>\n",
       "      <th>4</th>\n",
       "      <td>1.000</td>\n",
       "      <td>1</td>\n",
       "      <td>0.337838</td>\n",
       "      <td>0.2</td>\n",
       "      <td>0.500246</td>\n",
       "      <td>0.000000</td>\n",
       "      <td>1</td>\n",
       "      <td>1</td>\n",
       "      <td>0.395400</td>\n",
       "      <td>0</td>\n",
       "      <td>0</td>\n",
       "      <td>0</td>\n",
       "      <td>1</td>\n",
       "    </tr>\n",
       "  </tbody>\n",
       "</table>\n",
       "</div>"
      ],
      "text/plain": [
       "   CreditScore  Gender       Age  Tenure   Balance  NumOfProducts  HasCrCard  \\\n",
       "0        0.538       1  0.324324     0.2  0.000000       0.000000          1   \n",
       "1        0.516       1  0.310811     0.1  0.334031       0.000000          0   \n",
       "2        0.304       1  0.324324     0.8  0.636357       0.666667          1   \n",
       "3        0.698       1  0.283784     0.1  0.000000       0.333333          0   \n",
       "4        1.000       1  0.337838     0.2  0.500246       0.000000          1   \n",
       "\n",
       "   IsActiveMember  EstimatedSalary  Exited  Geography_France  \\\n",
       "0               1         0.506735       1                 1   \n",
       "1               1         0.562709       0                 0   \n",
       "2               0         0.569654       1                 1   \n",
       "3               0         0.469120       0                 1   \n",
       "4               1         0.395400       0                 0   \n",
       "\n",
       "   Geography_Germany  Geography_Spain  \n",
       "0                  0                0  \n",
       "1                  0                1  \n",
       "2                  0                0  \n",
       "3                  0                0  \n",
       "4                  0                1  "
      ]
     },
     "execution_count": 19,
     "metadata": {},
     "output_type": "execute_result"
    }
   ],
   "source": [
    "df1.head()"
   ]
  },
  {
   "cell_type": "code",
   "execution_count": 20,
   "id": "fd8370e9",
   "metadata": {},
   "outputs": [],
   "source": [
    "X = df1.drop('Exited', axis = 'columns')\n",
    "y = df1['Exited']"
   ]
  },
  {
   "cell_type": "raw",
   "id": "3954f01d",
   "metadata": {},
   "source": [
    "# Train Test Split:"
   ]
  },
  {
   "cell_type": "code",
   "execution_count": 21,
   "id": "759b48dd",
   "metadata": {},
   "outputs": [],
   "source": [
    "from sklearn.model_selection import train_test_split\n",
    "X_train, X_test, y_train, y_test = train_test_split(X, y, test_size = 0.2, random_state = 5)"
   ]
  },
  {
   "cell_type": "code",
   "execution_count": 22,
   "id": "a26e35c4",
   "metadata": {},
   "outputs": [
    {
     "data": {
      "text/plain": [
       "(8000, 12)"
      ]
     },
     "execution_count": 22,
     "metadata": {},
     "output_type": "execute_result"
    }
   ],
   "source": [
    "X_train.shape"
   ]
  },
  {
   "cell_type": "code",
   "execution_count": 23,
   "id": "6c2eea76",
   "metadata": {},
   "outputs": [
    {
     "data": {
      "text/plain": [
       "(2000, 12)"
      ]
     },
     "execution_count": 23,
     "metadata": {},
     "output_type": "execute_result"
    }
   ],
   "source": [
    "X_test.shape"
   ]
  },
  {
   "cell_type": "markdown",
   "id": "638613dc",
   "metadata": {},
   "source": [
    "# Building an ANN model"
   ]
  },
  {
   "cell_type": "code",
   "execution_count": 24,
   "id": "ab8f80b2",
   "metadata": {},
   "outputs": [
    {
     "name": "stdout",
     "output_type": "stream",
     "text": [
      "Epoch 1/100\n",
      "250/250 [==============================] - 0s 465us/step - loss: 0.5477 - accuracy: 0.7601\n",
      "Epoch 2/100\n",
      "250/250 [==============================] - 0s 540us/step - loss: 0.4830 - accuracy: 0.7960\n",
      "Epoch 3/100\n",
      "250/250 [==============================] - 0s 412us/step - loss: 0.4689 - accuracy: 0.7960\n",
      "Epoch 4/100\n",
      "250/250 [==============================] - 0s 412us/step - loss: 0.4596 - accuracy: 0.7960\n",
      "Epoch 5/100\n",
      "250/250 [==============================] - 0s 400us/step - loss: 0.4507 - accuracy: 0.7975\n",
      "Epoch 6/100\n",
      "250/250 [==============================] - 0s 404us/step - loss: 0.4409 - accuracy: 0.8134\n",
      "Epoch 7/100\n",
      "250/250 [==============================] - 0s 417us/step - loss: 0.4311 - accuracy: 0.8204\n",
      "Epoch 8/100\n",
      "250/250 [==============================] - 0s 412us/step - loss: 0.4243 - accuracy: 0.8238\n",
      "Epoch 9/100\n",
      "250/250 [==============================] - 0s 408us/step - loss: 0.4190 - accuracy: 0.8224\n",
      "Epoch 10/100\n",
      "250/250 [==============================] - 0s 404us/step - loss: 0.4128 - accuracy: 0.8242\n",
      "Epoch 11/100\n",
      "250/250 [==============================] - 0s 424us/step - loss: 0.4068 - accuracy: 0.8255\n",
      "Epoch 12/100\n",
      "250/250 [==============================] - 0s 424us/step - loss: 0.4007 - accuracy: 0.8280\n",
      "Epoch 13/100\n",
      "250/250 [==============================] - 0s 456us/step - loss: 0.3935 - accuracy: 0.8291\n",
      "Epoch 14/100\n",
      "250/250 [==============================] - 0s 432us/step - loss: 0.3885 - accuracy: 0.8340\n",
      "Epoch 15/100\n",
      "250/250 [==============================] - 0s 432us/step - loss: 0.3823 - accuracy: 0.8380\n",
      "Epoch 16/100\n",
      "250/250 [==============================] - 0s 456us/step - loss: 0.3781 - accuracy: 0.8380\n",
      "Epoch 17/100\n",
      "250/250 [==============================] - 0s 472us/step - loss: 0.3731 - accuracy: 0.8428\n",
      "Epoch 18/100\n",
      "250/250 [==============================] - 0s 464us/step - loss: 0.3686 - accuracy: 0.8461\n",
      "Epoch 19/100\n",
      "250/250 [==============================] - 0s 412us/step - loss: 0.3641 - accuracy: 0.8475\n",
      "Epoch 20/100\n",
      "250/250 [==============================] - 0s 548us/step - loss: 0.3613 - accuracy: 0.8501\n",
      "Epoch 21/100\n",
      "250/250 [==============================] - 0s 440us/step - loss: 0.3592 - accuracy: 0.8494\n",
      "Epoch 22/100\n",
      "250/250 [==============================] - 0s 560us/step - loss: 0.3552 - accuracy: 0.8526\n",
      "Epoch 23/100\n",
      "250/250 [==============================] - 0s 556us/step - loss: 0.3541 - accuracy: 0.8537\n",
      "Epoch 24/100\n",
      "250/250 [==============================] - 0s 460us/step - loss: 0.3508 - accuracy: 0.8572\n",
      "Epoch 25/100\n",
      "250/250 [==============================] - 0s 512us/step - loss: 0.3498 - accuracy: 0.8559\n",
      "Epoch 26/100\n",
      "250/250 [==============================] - 0s 504us/step - loss: 0.3490 - accuracy: 0.8572\n",
      "Epoch 27/100\n",
      "250/250 [==============================] - 0s 516us/step - loss: 0.3492 - accuracy: 0.8594\n",
      "Epoch 28/100\n",
      "250/250 [==============================] - 0s 560us/step - loss: 0.3465 - accuracy: 0.8600\n",
      "Epoch 29/100\n",
      "250/250 [==============================] - 0s 620us/step - loss: 0.3463 - accuracy: 0.8594\n",
      "Epoch 30/100\n",
      "250/250 [==============================] - 0s 516us/step - loss: 0.3466 - accuracy: 0.8570\n",
      "Epoch 31/100\n",
      "250/250 [==============================] - 0s 528us/step - loss: 0.3459 - accuracy: 0.8599\n",
      "Epoch 32/100\n",
      "250/250 [==============================] - 0s 424us/step - loss: 0.3450 - accuracy: 0.8593\n",
      "Epoch 33/100\n",
      "250/250 [==============================] - 0s 504us/step - loss: 0.3429 - accuracy: 0.8594\n",
      "Epoch 34/100\n",
      "250/250 [==============================] - 0s 520us/step - loss: 0.3444 - accuracy: 0.8605\n",
      "Epoch 35/100\n",
      "250/250 [==============================] - 0s 528us/step - loss: 0.3425 - accuracy: 0.8601\n",
      "Epoch 36/100\n",
      "250/250 [==============================] - 0s 424us/step - loss: 0.3429 - accuracy: 0.8593\n",
      "Epoch 37/100\n",
      "250/250 [==============================] - 0s 484us/step - loss: 0.3431 - accuracy: 0.8586\n",
      "Epoch 38/100\n",
      "250/250 [==============================] - 0s 440us/step - loss: 0.3418 - accuracy: 0.8605\n",
      "Epoch 39/100\n",
      "250/250 [==============================] - 0s 436us/step - loss: 0.3410 - accuracy: 0.8614\n",
      "Epoch 40/100\n",
      "250/250 [==============================] - 0s 456us/step - loss: 0.3410 - accuracy: 0.8615\n",
      "Epoch 41/100\n",
      "250/250 [==============================] - 0s 456us/step - loss: 0.3408 - accuracy: 0.8615\n",
      "Epoch 42/100\n",
      "250/250 [==============================] - 0s 488us/step - loss: 0.3403 - accuracy: 0.8601\n",
      "Epoch 43/100\n",
      "250/250 [==============================] - 0s 656us/step - loss: 0.3402 - accuracy: 0.8604\n",
      "Epoch 44/100\n",
      "250/250 [==============================] - 0s 496us/step - loss: 0.3407 - accuracy: 0.8606\n",
      "Epoch 45/100\n",
      "250/250 [==============================] - 0s 508us/step - loss: 0.3393 - accuracy: 0.8640\n",
      "Epoch 46/100\n",
      "250/250 [==============================] - 0s 712us/step - loss: 0.3391 - accuracy: 0.8641\n",
      "Epoch 47/100\n",
      "250/250 [==============================] - 0s 564us/step - loss: 0.3401 - accuracy: 0.8622\n",
      "Epoch 48/100\n",
      "250/250 [==============================] - 0s 596us/step - loss: 0.3384 - accuracy: 0.8646\n",
      "Epoch 49/100\n",
      "250/250 [==============================] - 0s 416us/step - loss: 0.3387 - accuracy: 0.8640\n",
      "Epoch 50/100\n",
      "250/250 [==============================] - 0s 416us/step - loss: 0.3385 - accuracy: 0.8633\n",
      "Epoch 51/100\n",
      "250/250 [==============================] - 0s 408us/step - loss: 0.3373 - accuracy: 0.8633\n",
      "Epoch 52/100\n",
      "250/250 [==============================] - 0s 412us/step - loss: 0.3379 - accuracy: 0.8643\n",
      "Epoch 53/100\n",
      "250/250 [==============================] - 0s 416us/step - loss: 0.3381 - accuracy: 0.8646\n",
      "Epoch 54/100\n",
      "250/250 [==============================] - 0s 412us/step - loss: 0.3377 - accuracy: 0.8639\n",
      "Epoch 55/100\n",
      "250/250 [==============================] - 0s 416us/step - loss: 0.3370 - accuracy: 0.8631\n",
      "Epoch 56/100\n",
      "250/250 [==============================] - 0s 412us/step - loss: 0.3373 - accuracy: 0.8636\n",
      "Epoch 57/100\n",
      "250/250 [==============================] - 0s 412us/step - loss: 0.3381 - accuracy: 0.8612\n",
      "Epoch 58/100\n",
      "250/250 [==============================] - 0s 412us/step - loss: 0.3378 - accuracy: 0.8615\n",
      "Epoch 59/100\n",
      "250/250 [==============================] - 0s 416us/step - loss: 0.3375 - accuracy: 0.8649\n",
      "Epoch 60/100\n",
      "250/250 [==============================] - 0s 420us/step - loss: 0.3388 - accuracy: 0.8615\n",
      "Epoch 61/100\n",
      "250/250 [==============================] - 0s 432us/step - loss: 0.3387 - accuracy: 0.8618\n",
      "Epoch 62/100\n",
      "250/250 [==============================] - 0s 472us/step - loss: 0.3371 - accuracy: 0.8622\n",
      "Epoch 63/100\n",
      "250/250 [==============================] - 0s 472us/step - loss: 0.3371 - accuracy: 0.8651\n",
      "Epoch 64/100\n",
      "250/250 [==============================] - 0s 452us/step - loss: 0.3375 - accuracy: 0.8645\n",
      "Epoch 65/100\n",
      "250/250 [==============================] - 0s 424us/step - loss: 0.3373 - accuracy: 0.8639\n",
      "Epoch 66/100\n",
      "250/250 [==============================] - 0s 408us/step - loss: 0.3370 - accuracy: 0.8635\n",
      "Epoch 67/100\n",
      "250/250 [==============================] - 0s 396us/step - loss: 0.3365 - accuracy: 0.8641\n",
      "Epoch 68/100\n",
      "250/250 [==============================] - 0s 420us/step - loss: 0.3369 - accuracy: 0.8637\n",
      "Epoch 69/100\n",
      "250/250 [==============================] - 0s 420us/step - loss: 0.3356 - accuracy: 0.8664\n",
      "Epoch 70/100\n",
      "250/250 [==============================] - 0s 420us/step - loss: 0.3363 - accuracy: 0.8622\n",
      "Epoch 71/100\n",
      "250/250 [==============================] - 0s 412us/step - loss: 0.3367 - accuracy: 0.8637\n",
      "Epoch 72/100\n",
      "250/250 [==============================] - 0s 416us/step - loss: 0.3369 - accuracy: 0.8640\n",
      "Epoch 73/100\n",
      "250/250 [==============================] - 0s 412us/step - loss: 0.3355 - accuracy: 0.8655\n",
      "Epoch 74/100\n",
      "250/250 [==============================] - 0s 416us/step - loss: 0.3364 - accuracy: 0.8627\n",
      "Epoch 75/100\n",
      "250/250 [==============================] - 0s 428us/step - loss: 0.3366 - accuracy: 0.8655\n",
      "Epoch 76/100\n",
      "250/250 [==============================] - 0s 496us/step - loss: 0.3363 - accuracy: 0.8643\n",
      "Epoch 77/100\n",
      "250/250 [==============================] - 0s 460us/step - loss: 0.3358 - accuracy: 0.8635\n",
      "Epoch 78/100\n",
      "250/250 [==============================] - 0s 436us/step - loss: 0.3369 - accuracy: 0.8646\n",
      "Epoch 79/100\n"
     ]
    },
    {
     "name": "stdout",
     "output_type": "stream",
     "text": [
      "250/250 [==============================] - 0s 420us/step - loss: 0.3370 - accuracy: 0.8650\n",
      "Epoch 80/100\n",
      "250/250 [==============================] - 0s 408us/step - loss: 0.3358 - accuracy: 0.8646\n",
      "Epoch 81/100\n",
      "250/250 [==============================] - 0s 404us/step - loss: 0.3362 - accuracy: 0.8654\n",
      "Epoch 82/100\n",
      "250/250 [==============================] - 0s 412us/step - loss: 0.3372 - accuracy: 0.8639\n",
      "Epoch 83/100\n",
      "250/250 [==============================] - 0s 424us/step - loss: 0.3358 - accuracy: 0.8620\n",
      "Epoch 84/100\n",
      "250/250 [==============================] - 0s 416us/step - loss: 0.3350 - accuracy: 0.8643\n",
      "Epoch 85/100\n",
      "250/250 [==============================] - 0s 412us/step - loss: 0.3374 - accuracy: 0.8645\n",
      "Epoch 86/100\n",
      "250/250 [==============================] - 0s 408us/step - loss: 0.3364 - accuracy: 0.8635\n",
      "Epoch 87/100\n",
      "250/250 [==============================] - 0s 416us/step - loss: 0.3351 - accuracy: 0.8654\n",
      "Epoch 88/100\n",
      "250/250 [==============================] - 0s 408us/step - loss: 0.3357 - accuracy: 0.8649\n",
      "Epoch 89/100\n",
      "250/250 [==============================] - 0s 412us/step - loss: 0.3355 - accuracy: 0.8633\n",
      "Epoch 90/100\n",
      "250/250 [==============================] - 0s 424us/step - loss: 0.3357 - accuracy: 0.8643\n",
      "Epoch 91/100\n",
      "250/250 [==============================] - 0s 420us/step - loss: 0.3349 - accuracy: 0.8640\n",
      "Epoch 92/100\n",
      "250/250 [==============================] - 0s 412us/step - loss: 0.3356 - accuracy: 0.8637\n",
      "Epoch 93/100\n",
      "250/250 [==============================] - 0s 416us/step - loss: 0.3353 - accuracy: 0.8641\n",
      "Epoch 94/100\n",
      "250/250 [==============================] - 0s 416us/step - loss: 0.3356 - accuracy: 0.8635\n",
      "Epoch 95/100\n",
      "250/250 [==============================] - 0s 420us/step - loss: 0.3361 - accuracy: 0.8637\n",
      "Epoch 96/100\n",
      "250/250 [==============================] - 0s 404us/step - loss: 0.3351 - accuracy: 0.8639\n",
      "Epoch 97/100\n",
      "250/250 [==============================] - 0s 416us/step - loss: 0.3352 - accuracy: 0.8651\n",
      "Epoch 98/100\n",
      "250/250 [==============================] - 0s 424us/step - loss: 0.3357 - accuracy: 0.8641\n",
      "Epoch 99/100\n",
      "250/250 [==============================] - 0s 456us/step - loss: 0.3359 - accuracy: 0.8645\n",
      "Epoch 100/100\n",
      "250/250 [==============================] - 0s 468us/step - loss: 0.3349 - accuracy: 0.8649\n"
     ]
    },
    {
     "data": {
      "text/plain": [
       "<tensorflow.python.keras.callbacks.History at 0x20069577e80>"
      ]
     },
     "execution_count": 24,
     "metadata": {},
     "output_type": "execute_result"
    }
   ],
   "source": [
    "import tensorflow as tf\n",
    "from tensorflow import keras\n",
    "\n",
    "\n",
    "model = keras.Sequential([\n",
    "    keras.layers.Dense(12, input_shape=(12,), activation='relu'),\n",
    "    keras.layers.Dense(8, activation='relu'),\n",
    "    keras.layers.Dense(1, activation='sigmoid')\n",
    "])\n",
    "\n",
    "model.compile(optimizer='adam',\n",
    "              loss='binary_crossentropy',\n",
    "              metrics=['accuracy'])\n",
    "\n",
    "model.fit(X_train, y_train, epochs=100)"
   ]
  },
  {
   "cell_type": "code",
   "execution_count": 25,
   "id": "7791f0f5",
   "metadata": {},
   "outputs": [
    {
     "name": "stdout",
     "output_type": "stream",
     "text": [
      "63/63 [==============================] - 0s 365us/step - loss: 0.3530 - accuracy: 0.8525\n"
     ]
    },
    {
     "data": {
      "text/plain": [
       "[0.35295653343200684, 0.8525000214576721]"
      ]
     },
     "execution_count": 25,
     "metadata": {},
     "output_type": "execute_result"
    }
   ],
   "source": [
    "model.evaluate(X_test, y_test)"
   ]
  },
  {
   "cell_type": "code",
   "execution_count": 26,
   "id": "c882c1db",
   "metadata": {},
   "outputs": [
    {
     "data": {
      "text/plain": [
       "array([[0.10556197],\n",
       "       [0.01172602],\n",
       "       [0.41442227],\n",
       "       [0.01821467],\n",
       "       [0.9857549 ]], dtype=float32)"
      ]
     },
     "execution_count": 26,
     "metadata": {},
     "output_type": "execute_result"
    }
   ],
   "source": [
    "y_pred = model.predict(X_test)\n",
    "y_pred[5:10]"
   ]
  },
  {
   "cell_type": "code",
   "execution_count": 27,
   "id": "28539c3e",
   "metadata": {},
   "outputs": [],
   "source": [
    "y_pred1 = []\n",
    "for element in y_pred:\n",
    "    if element > 0.5:\n",
    "        y_pred1.append(1)\n",
    "    else:\n",
    "        y_pred1.append(0)"
   ]
  },
  {
   "cell_type": "code",
   "execution_count": 28,
   "id": "68590abc",
   "metadata": {},
   "outputs": [
    {
     "data": {
      "text/plain": [
       "[0, 0, 0, 0, 1]"
      ]
     },
     "execution_count": 28,
     "metadata": {},
     "output_type": "execute_result"
    }
   ],
   "source": [
    "y_pred1[5:10]"
   ]
  },
  {
   "cell_type": "code",
   "execution_count": 29,
   "id": "73134763",
   "metadata": {},
   "outputs": [
    {
     "data": {
      "text/plain": [
       "6178    0\n",
       "8351    0\n",
       "5658    1\n",
       "2065    0\n",
       "413     1\n",
       "Name: Exited, dtype: int64"
      ]
     },
     "execution_count": 29,
     "metadata": {},
     "output_type": "execute_result"
    }
   ],
   "source": [
    "y_test[5:10]"
   ]
  },
  {
   "cell_type": "code",
   "execution_count": 30,
   "id": "1d21c318",
   "metadata": {},
   "outputs": [
    {
     "name": "stdout",
     "output_type": "stream",
     "text": [
      "              precision    recall  f1-score   support\n",
      "\n",
      "           0       0.88      0.94      0.91      1595\n",
      "           1       0.68      0.51      0.58       405\n",
      "\n",
      "    accuracy                           0.85      2000\n",
      "   macro avg       0.78      0.72      0.75      2000\n",
      "weighted avg       0.84      0.85      0.84      2000\n",
      "\n"
     ]
    }
   ],
   "source": [
    "from sklearn.metrics import classification_report, confusion_matrix \n",
    "\n",
    "print(classification_report(y_test,y_pred1))"
   ]
  },
  {
   "cell_type": "code",
   "execution_count": 31,
   "id": "b2af19a0",
   "metadata": {},
   "outputs": [
    {
     "data": {
      "text/plain": [
       "Text(69.0, 0.5, 'actual')"
      ]
     },
     "execution_count": 31,
     "metadata": {},
     "output_type": "execute_result"
    },
    {
     "data": {
      "image/png": "[encoded data removed]",
      "text/plain": [
       "<Figure size 720x576 with 2 Axes>"
      ]
     },
     "metadata": {
      "needs_background": "light"
     },
     "output_type": "display_data"
    }
   ],
   "source": [
    "import seaborn as sn\n",
    "\n",
    "cm = tf.math.confusion_matrix(labels = y_test, predictions = y_pred1)\n",
    "\n",
    "plt.figure(figsize = (10,8))\n",
    "sn.heatmap(cm, annot = True, fmt = 'd')\n",
    "plt.xlabel(\"predicted\")\n",
    "plt.ylabel(\"actual\")"
   ]
  },
  {
   "cell_type": "code",
   "execution_count": 32,
   "id": "aa4e5c24",
   "metadata": {},
   "outputs": [],
   "source": [
    "def ANN(X_train, y_train, X_test, y_test, loss, weights):\n",
    "    model = keras.Sequential([\n",
    "        keras.layers.Dense(12, input_dim=12, activation='relu'),\n",
    "        keras.layers.Dense(8, activation='relu'),\n",
    "        keras.layers.Dense(1, activation='sigmoid')\n",
    "    ])\n",
    "\n",
    "    model.compile(optimizer='adam', loss=loss, metrics=['accuracy'])\n",
    "    \n",
    "    if weights == -1:\n",
    "        model.fit(X_train, y_train, epochs=100)\n",
    "    else:\n",
    "        model.fit(X_train, y_train, epochs=100, class_weight = weights)\n",
    "    \n",
    "    print(model.evaluate(X_test, y_test))\n",
    "    \n",
    "    y_preds = model.predict(X_test)\n",
    "    y_preds = np.round(y_preds)\n",
    "    \n",
    "    print(\"Classification Report: \\n\", classification_report(y_test, y_preds))\n",
    "    \n",
    "    return y_preds"
   ]
  },
  {
   "cell_type": "markdown",
   "id": "fb0b2901",
   "metadata": {},
   "source": [
    "# Mitigating Skewdness of Data"
   ]
  },
  {
   "cell_type": "code",
   "execution_count": 33,
   "id": "fe3d9aad",
   "metadata": {},
   "outputs": [
    {
     "data": {
      "text/plain": [
       "0    7963\n",
       "1    2037\n",
       "Name: Exited, dtype: int64"
      ]
     },
     "execution_count": 33,
     "metadata": {},
     "output_type": "execute_result"
    }
   ],
   "source": [
    "df.Exited.value_counts()"
   ]
  },
  {
   "cell_type": "code",
   "execution_count": 34,
   "id": "1aade148",
   "metadata": {},
   "outputs": [],
   "source": [
    "# Class count\n",
    "count_class_0, count_class_1 = df.Exited.value_counts()\n",
    "\n",
    "# Divide by class\n",
    "df_class_0 = df1[df1['Exited'] == 0]\n",
    "df_class_1 = df1[df1['Exited'] == 1]"
   ]
  },
  {
   "cell_type": "code",
   "execution_count": 35,
   "id": "84861790",
   "metadata": {},
   "outputs": [
    {
     "name": "stdout",
     "output_type": "stream",
     "text": [
      "Random over-sampling:\n",
      "0    7963\n",
      "1    7963\n",
      "Name: Exited, dtype: int64\n"
     ]
    }
   ],
   "source": [
    "# Oversample 1-class and concat the DataFrames of both classes\n",
    "\n",
    "df_class_1_over = df_class_1.sample(count_class_0, replace=True)\n",
    "df_test_over = pd.concat([df_class_0, df_class_1_over], axis=0)\n",
    "\n",
    "print('Random over-sampling:')\n",
    "print(df_test_over.Exited.value_counts())"
   ]
  },
  {
   "cell_type": "code",
   "execution_count": 36,
   "id": "be60712e",
   "metadata": {},
   "outputs": [],
   "source": [
    "X = df_test_over.drop('Exited',axis='columns')\n",
    "y = df_test_over['Exited']\n",
    "\n",
    "from sklearn.model_selection import train_test_split\n",
    "X_train, X_test, y_train, y_test = train_test_split(X, y, test_size=0.2, random_state=15, stratify=y)"
   ]
  },
  {
   "cell_type": "code",
   "execution_count": 37,
   "id": "fc6c7c20",
   "metadata": {},
   "outputs": [
    {
     "data": {
      "text/plain": [
       "0    6370\n",
       "1    6370\n",
       "Name: Exited, dtype: int64"
      ]
     },
     "execution_count": 37,
     "metadata": {},
     "output_type": "execute_result"
    }
   ],
   "source": [
    "# Number of classes in training Data\n",
    "y_train.value_counts()"
   ]
  },
  {
   "cell_type": "code",
   "execution_count": 38,
   "id": "0ae8dd89",
   "metadata": {},
   "outputs": [
    {
     "name": "stdout",
     "output_type": "stream",
     "text": [
      "Epoch 1/100\n",
      "399/399 [==============================] - 0s 469us/step - loss: 0.6464 - accuracy: 0.6240\n",
      "Epoch 2/100\n",
      "399/399 [==============================] - 0s 476us/step - loss: 0.6122 - accuracy: 0.6646\n",
      "Epoch 3/100\n",
      "399/399 [==============================] - 0s 486us/step - loss: 0.5926 - accuracy: 0.6818\n",
      "Epoch 4/100\n",
      "399/399 [==============================] - 0s 541us/step - loss: 0.5786 - accuracy: 0.6945\n",
      "Epoch 5/100\n",
      "399/399 [==============================] - 0s 539us/step - loss: 0.5686 - accuracy: 0.7007\n",
      "Epoch 6/100\n",
      "399/399 [==============================] - 0s 564us/step - loss: 0.5606 - accuracy: 0.7065\n",
      "Epoch 7/100\n",
      "399/399 [==============================] - 0s 481us/step - loss: 0.5521 - accuracy: 0.7130\n",
      "Epoch 8/100\n",
      "399/399 [==============================] - 0s 509us/step - loss: 0.5434 - accuracy: 0.7230\n",
      "Epoch 9/100\n",
      "399/399 [==============================] - 0s 544us/step - loss: 0.5347 - accuracy: 0.7265\n",
      "Epoch 10/100\n",
      "399/399 [==============================] - 0s 496us/step - loss: 0.5265 - accuracy: 0.7337\n",
      "Epoch 11/100\n",
      "399/399 [==============================] - 0s 461us/step - loss: 0.5167 - accuracy: 0.7417\n",
      "Epoch 12/100\n",
      "399/399 [==============================] - 0s 594us/step - loss: 0.5068 - accuracy: 0.7495\n",
      "Epoch 13/100\n",
      "399/399 [==============================] - 0s 481us/step - loss: 0.4999 - accuracy: 0.7566\n",
      "Epoch 14/100\n",
      "399/399 [==============================] - 0s 557us/step - loss: 0.4923 - accuracy: 0.7618\n",
      "Epoch 15/100\n",
      "399/399 [==============================] - 0s 464us/step - loss: 0.4878 - accuracy: 0.7622\n",
      "Epoch 16/100\n",
      "399/399 [==============================] - 0s 469us/step - loss: 0.4830 - accuracy: 0.7646\n",
      "Epoch 17/100\n",
      "399/399 [==============================] - 0s 456us/step - loss: 0.4793 - accuracy: 0.7664\n",
      "Epoch 18/100\n",
      "399/399 [==============================] - 0s 454us/step - loss: 0.4752 - accuracy: 0.7693\n",
      "Epoch 19/100\n",
      "399/399 [==============================] - 0s 461us/step - loss: 0.4722 - accuracy: 0.7730\n",
      "Epoch 20/100\n",
      "399/399 [==============================] - 0s 459us/step - loss: 0.4699 - accuracy: 0.7721\n",
      "Epoch 21/100\n",
      "399/399 [==============================] - 0s 456us/step - loss: 0.4680 - accuracy: 0.7743\n",
      "Epoch 22/100\n",
      "399/399 [==============================] - 0s 461us/step - loss: 0.4669 - accuracy: 0.7736\n",
      "Epoch 23/100\n",
      "399/399 [==============================] - 0s 461us/step - loss: 0.4655 - accuracy: 0.7754\n",
      "Epoch 24/100\n",
      "399/399 [==============================] - 0s 459us/step - loss: 0.4639 - accuracy: 0.7743\n",
      "Epoch 25/100\n",
      "399/399 [==============================] - 0s 474us/step - loss: 0.4632 - accuracy: 0.7752\n",
      "Epoch 26/100\n",
      "399/399 [==============================] - 0s 546us/step - loss: 0.4619 - accuracy: 0.7761\n",
      "Epoch 27/100\n",
      "399/399 [==============================] - 0s 499us/step - loss: 0.4606 - accuracy: 0.7747\n",
      "Epoch 28/100\n",
      "399/399 [==============================] - 0s 496us/step - loss: 0.4582 - accuracy: 0.7767\n",
      "Epoch 29/100\n",
      "399/399 [==============================] - 0s 536us/step - loss: 0.4574 - accuracy: 0.7783\n",
      "Epoch 30/100\n",
      "399/399 [==============================] - 0s 484us/step - loss: 0.4577 - accuracy: 0.7786\n",
      "Epoch 31/100\n",
      "399/399 [==============================] - 0s 526us/step - loss: 0.4564 - accuracy: 0.7765\n",
      "Epoch 32/100\n",
      "399/399 [==============================] - 0s 461us/step - loss: 0.4545 - accuracy: 0.7774\n",
      "Epoch 33/100\n",
      "399/399 [==============================] - 0s 549us/step - loss: 0.4537 - accuracy: 0.7773\n",
      "Epoch 34/100\n",
      "399/399 [==============================] - 0s 516us/step - loss: 0.4525 - accuracy: 0.7773\n",
      "Epoch 35/100\n",
      "399/399 [==============================] - 0s 519us/step - loss: 0.4535 - accuracy: 0.7778\n",
      "Epoch 36/100\n",
      "399/399 [==============================] - 0s 453us/step - loss: 0.4529 - accuracy: 0.7794\n",
      "Epoch 37/100\n",
      "399/399 [==============================] - 0s 446us/step - loss: 0.4516 - accuracy: 0.7772\n",
      "Epoch 38/100\n",
      "399/399 [==============================] - 0s 456us/step - loss: 0.4517 - accuracy: 0.7768\n",
      "Epoch 39/100\n",
      "399/399 [==============================] - 0s 479us/step - loss: 0.4497 - accuracy: 0.7780\n",
      "Epoch 40/100\n",
      "399/399 [==============================] - 0s 489us/step - loss: 0.4503 - accuracy: 0.7778\n",
      "Epoch 41/100\n",
      "399/399 [==============================] - 0s 481us/step - loss: 0.4494 - accuracy: 0.7797\n",
      "Epoch 42/100\n",
      "399/399 [==============================] - 0s 454us/step - loss: 0.4497 - accuracy: 0.7801\n",
      "Epoch 43/100\n",
      "399/399 [==============================] - 0s 454us/step - loss: 0.4479 - accuracy: 0.7797\n",
      "Epoch 44/100\n",
      "399/399 [==============================] - 0s 461us/step - loss: 0.4491 - accuracy: 0.7783\n",
      "Epoch 45/100\n",
      "399/399 [==============================] - 0s 459us/step - loss: 0.4474 - accuracy: 0.7790\n",
      "Epoch 46/100\n",
      "399/399 [==============================] - 0s 461us/step - loss: 0.4465 - accuracy: 0.7796\n",
      "Epoch 47/100\n",
      "399/399 [==============================] - 0s 461us/step - loss: 0.4476 - accuracy: 0.7783\n",
      "Epoch 48/100\n",
      "399/399 [==============================] - 0s 459us/step - loss: 0.4476 - accuracy: 0.7801\n",
      "Epoch 49/100\n",
      "399/399 [==============================] - 0s 471us/step - loss: 0.4462 - accuracy: 0.7801\n",
      "Epoch 50/100\n",
      "399/399 [==============================] - 0s 484us/step - loss: 0.4468 - accuracy: 0.7797\n",
      "Epoch 51/100\n",
      "399/399 [==============================] - 0s 506us/step - loss: 0.4461 - accuracy: 0.7801\n",
      "Epoch 52/100\n",
      "399/399 [==============================] - 0s 491us/step - loss: 0.4450 - accuracy: 0.7785\n",
      "Epoch 53/100\n",
      "399/399 [==============================] - 0s 464us/step - loss: 0.4447 - accuracy: 0.7801\n",
      "Epoch 54/100\n",
      "399/399 [==============================] - 0s 489us/step - loss: 0.4446 - accuracy: 0.7830\n",
      "Epoch 55/100\n",
      "399/399 [==============================] - 0s 481us/step - loss: 0.4441 - accuracy: 0.7821\n",
      "Epoch 56/100\n",
      "399/399 [==============================] - 0s 516us/step - loss: 0.4439 - accuracy: 0.7813\n",
      "Epoch 57/100\n",
      "399/399 [==============================] - 0s 464us/step - loss: 0.4440 - accuracy: 0.7807\n",
      "Epoch 58/100\n",
      "399/399 [==============================] - 0s 446us/step - loss: 0.4435 - accuracy: 0.7820\n",
      "Epoch 59/100\n",
      "399/399 [==============================] - 0s 524us/step - loss: 0.4424 - accuracy: 0.7838\n",
      "Epoch 60/100\n",
      "399/399 [==============================] - 0s 481us/step - loss: 0.4426 - accuracy: 0.7816\n",
      "Epoch 61/100\n",
      "399/399 [==============================] - 0s 501us/step - loss: 0.4422 - accuracy: 0.7822\n",
      "Epoch 62/100\n",
      "399/399 [==============================] - 0s 491us/step - loss: 0.4429 - accuracy: 0.7819\n",
      "Epoch 63/100\n",
      "399/399 [==============================] - 0s 504us/step - loss: 0.4418 - accuracy: 0.7790\n",
      "Epoch 64/100\n",
      "399/399 [==============================] - 0s 506us/step - loss: 0.4406 - accuracy: 0.7822\n",
      "Epoch 65/100\n",
      "399/399 [==============================] - 0s 539us/step - loss: 0.4403 - accuracy: 0.7831\n",
      "Epoch 66/100\n",
      "399/399 [==============================] - 0s 567us/step - loss: 0.4401 - accuracy: 0.7844\n",
      "Epoch 67/100\n",
      "399/399 [==============================] - 0s 572us/step - loss: 0.4410 - accuracy: 0.7809\n",
      "Epoch 68/100\n",
      "399/399 [==============================] - 0s 506us/step - loss: 0.4423 - accuracy: 0.7838\n",
      "Epoch 69/100\n",
      "399/399 [==============================] - 0s 484us/step - loss: 0.4416 - accuracy: 0.7808\n",
      "Epoch 70/100\n",
      "399/399 [==============================] - 0s 491us/step - loss: 0.4408 - accuracy: 0.7827\n",
      "Epoch 71/100\n",
      "399/399 [==============================] - 0s 486us/step - loss: 0.4408 - accuracy: 0.7825\n",
      "Epoch 72/100\n",
      "399/399 [==============================] - 0s 451us/step - loss: 0.4399 - accuracy: 0.7835\n",
      "Epoch 73/100\n",
      "399/399 [==============================] - 0s 446us/step - loss: 0.4391 - accuracy: 0.7837\n",
      "Epoch 74/100\n",
      "399/399 [==============================] - 0s 456us/step - loss: 0.4399 - accuracy: 0.7827\n",
      "Epoch 75/100\n",
      "399/399 [==============================] - 0s 454us/step - loss: 0.4395 - accuracy: 0.7826\n",
      "Epoch 76/100\n",
      "399/399 [==============================] - 0s 449us/step - loss: 0.4402 - accuracy: 0.7811\n",
      "Epoch 77/100\n",
      "399/399 [==============================] - 0s 451us/step - loss: 0.4403 - accuracy: 0.7824\n",
      "Epoch 78/100\n",
      "399/399 [==============================] - 0s 446us/step - loss: 0.4413 - accuracy: 0.7820\n",
      "Epoch 79/100\n"
     ]
    },
    {
     "name": "stdout",
     "output_type": "stream",
     "text": [
      "399/399 [==============================] - 0s 454us/step - loss: 0.4391 - accuracy: 0.7856\n",
      "Epoch 80/100\n",
      "399/399 [==============================] - 0s 461us/step - loss: 0.4405 - accuracy: 0.7820\n",
      "Epoch 81/100\n",
      "399/399 [==============================] - 0s 449us/step - loss: 0.4380 - accuracy: 0.7830\n",
      "Epoch 82/100\n",
      "399/399 [==============================] - 0s 441us/step - loss: 0.4380 - accuracy: 0.7841\n",
      "Epoch 83/100\n",
      "399/399 [==============================] - 0s 444us/step - loss: 0.4396 - accuracy: 0.7825\n",
      "Epoch 84/100\n",
      "399/399 [==============================] - 0s 456us/step - loss: 0.4381 - accuracy: 0.7839\n",
      "Epoch 85/100\n",
      "399/399 [==============================] - 0s 451us/step - loss: 0.4391 - accuracy: 0.7852\n",
      "Epoch 86/100\n",
      "399/399 [==============================] - 0s 446us/step - loss: 0.4386 - accuracy: 0.7862\n",
      "Epoch 87/100\n",
      "399/399 [==============================] - 0s 444us/step - loss: 0.4388 - accuracy: 0.7841\n",
      "Epoch 88/100\n",
      "399/399 [==============================] - 0s 446us/step - loss: 0.4382 - accuracy: 0.7849\n",
      "Epoch 89/100\n",
      "399/399 [==============================] - 0s 441us/step - loss: 0.4390 - accuracy: 0.7830\n",
      "Epoch 90/100\n",
      "399/399 [==============================] - 0s 449us/step - loss: 0.4382 - accuracy: 0.7848\n",
      "Epoch 91/100\n",
      "399/399 [==============================] - 0s 451us/step - loss: 0.4378 - accuracy: 0.7857\n",
      "Epoch 92/100\n",
      "399/399 [==============================] - 0s 446us/step - loss: 0.4385 - accuracy: 0.7846\n",
      "Epoch 93/100\n",
      "399/399 [==============================] - 0s 444us/step - loss: 0.4391 - accuracy: 0.7841\n",
      "Epoch 94/100\n",
      "399/399 [==============================] - 0s 459us/step - loss: 0.4379 - accuracy: 0.7868\n",
      "Epoch 95/100\n",
      "399/399 [==============================] - 0s 446us/step - loss: 0.4373 - accuracy: 0.7853\n",
      "Epoch 96/100\n",
      "399/399 [==============================] - 0s 446us/step - loss: 0.4369 - accuracy: 0.7852\n",
      "Epoch 97/100\n",
      "399/399 [==============================] - 0s 461us/step - loss: 0.4388 - accuracy: 0.7826\n",
      "Epoch 98/100\n",
      "399/399 [==============================] - 0s 446us/step - loss: 0.4394 - accuracy: 0.7838\n",
      "Epoch 99/100\n",
      "399/399 [==============================] - 0s 441us/step - loss: 0.4375 - accuracy: 0.7877\n",
      "Epoch 100/100\n",
      "399/399 [==============================] - 0s 444us/step - loss: 0.4373 - accuracy: 0.7852\n",
      "100/100 [==============================] - 0s 330us/step - loss: 0.4398 - accuracy: 0.7903\n",
      "[0.4397614896297455, 0.7903327345848083]\n",
      "Classification Report: \n",
      "               precision    recall  f1-score   support\n",
      "\n",
      "           0       0.79      0.80      0.79      1593\n",
      "           1       0.79      0.78      0.79      1593\n",
      "\n",
      "    accuracy                           0.79      3186\n",
      "   macro avg       0.79      0.79      0.79      3186\n",
      "weighted avg       0.79      0.79      0.79      3186\n",
      "\n"
     ]
    }
   ],
   "source": [
    "loss = keras.losses.BinaryCrossentropy()\n",
    "weights = -1\n",
    "y_preds = ANN(X_train, y_train, X_test, y_test, 'binary_crossentropy', -1)"
   ]
  },
  {
   "cell_type": "markdown",
   "id": "14c7da18",
   "metadata": {},
   "source": [
    "Now the classifier classifies both classes with same/similar prediction score"
   ]
  },
  {
   "cell_type": "code",
   "execution_count": null,
   "id": "44cfd7fd",
   "metadata": {},
   "outputs": [],
   "source": []
  }
 ],
 "metadata": {
  "kernelspec": {
   "display_name": "Python 3",
   "language": "python",
   "name": "python3"
  },
  "language_info": {
   "codemirror_mode": {
    "name": "ipython",
    "version": 3
   },
   "file_extension": ".py",
   "mimetype": "text/x-python",
   "name": "python",
   "nbconvert_exporter": "python",
   "pygments_lexer": "ipython3",
   "version": "3.8.8"
  }
 },
 "nbformat": 4,
 "nbformat_minor": 5
}
