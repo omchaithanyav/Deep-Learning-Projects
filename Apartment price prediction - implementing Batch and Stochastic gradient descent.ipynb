{
 "cells": [
  {
   "cell_type": "code",
   "execution_count": 1,
   "id": "28ffdfea",
   "metadata": {},
   "outputs": [],
   "source": [
    "import pandas as pd\n",
    "import numpy as np\n",
    "import os\n",
    "from matplotlib import pyplot as plt\n",
    "import random\n",
    "%matplotlib inline"
   ]
  },
  {
   "cell_type": "code",
   "execution_count": 2,
   "id": "3e1f8db3",
   "metadata": {},
   "outputs": [
    {
     "data": {
      "text/html": [
       "<div>\n",
       "<style scoped>\n",
       "    .dataframe tbody tr th:only-of-type {\n",
       "        vertical-align: middle;\n",
       "    }\n",
       "\n",
       "    .dataframe tbody tr th {\n",
       "        vertical-align: top;\n",
       "    }\n",
       "\n",
       "    .dataframe thead th {\n",
       "        text-align: right;\n",
       "    }\n",
       "</style>\n",
       "<table border=\"1\" class=\"dataframe\">\n",
       "  <thead>\n",
       "    <tr style=\"text-align: right;\">\n",
       "      <th></th>\n",
       "      <th>price</th>\n",
       "      <th>repair</th>\n",
       "      <th>year_built_empty</th>\n",
       "      <th>house_age</th>\n",
       "      <th>closest_subway</th>\n",
       "      <th>dist_to_subway</th>\n",
       "      <th>sg</th>\n",
       "      <th>lat</th>\n",
       "      <th>lon</th>\n",
       "      <th>subway_dist_to_center</th>\n",
       "      <th>...</th>\n",
       "      <th>subway_offers</th>\n",
       "      <th>address_offers</th>\n",
       "      <th>rooms</th>\n",
       "      <th>footage</th>\n",
       "      <th>floor</th>\n",
       "      <th>max_floor</th>\n",
       "      <th>first_floor</th>\n",
       "      <th>last_floor</th>\n",
       "      <th>AO</th>\n",
       "      <th>hm</th>\n",
       "    </tr>\n",
       "  </thead>\n",
       "  <tbody>\n",
       "    <tr>\n",
       "      <th>0</th>\n",
       "      <td>8000000</td>\n",
       "      <td>3</td>\n",
       "      <td>0</td>\n",
       "      <td>42</td>\n",
       "      <td>59</td>\n",
       "      <td>960</td>\n",
       "      <td>0.0</td>\n",
       "      <td>55.609009</td>\n",
       "      <td>37.734632</td>\n",
       "      <td>17166</td>\n",
       "      <td>...</td>\n",
       "      <td>5</td>\n",
       "      <td>1.0</td>\n",
       "      <td>1</td>\n",
       "      <td>39.4</td>\n",
       "      <td>11</td>\n",
       "      <td>12</td>\n",
       "      <td>0</td>\n",
       "      <td>0</td>\n",
       "      <td>UAO</td>\n",
       "      <td>panel</td>\n",
       "    </tr>\n",
       "    <tr>\n",
       "      <th>1</th>\n",
       "      <td>7200000</td>\n",
       "      <td>2</td>\n",
       "      <td>0</td>\n",
       "      <td>43</td>\n",
       "      <td>59</td>\n",
       "      <td>802</td>\n",
       "      <td>0.0</td>\n",
       "      <td>55.608760</td>\n",
       "      <td>37.741936</td>\n",
       "      <td>17166</td>\n",
       "      <td>...</td>\n",
       "      <td>9</td>\n",
       "      <td>1.0</td>\n",
       "      <td>1</td>\n",
       "      <td>35.6</td>\n",
       "      <td>2</td>\n",
       "      <td>9</td>\n",
       "      <td>0</td>\n",
       "      <td>0</td>\n",
       "      <td>UAO</td>\n",
       "      <td>panel</td>\n",
       "    </tr>\n",
       "    <tr>\n",
       "      <th>2</th>\n",
       "      <td>10300000</td>\n",
       "      <td>2</td>\n",
       "      <td>0</td>\n",
       "      <td>43</td>\n",
       "      <td>59</td>\n",
       "      <td>638</td>\n",
       "      <td>0.0</td>\n",
       "      <td>55.610207</td>\n",
       "      <td>37.742495</td>\n",
       "      <td>17166</td>\n",
       "      <td>...</td>\n",
       "      <td>9</td>\n",
       "      <td>2.0</td>\n",
       "      <td>2</td>\n",
       "      <td>53.0</td>\n",
       "      <td>5</td>\n",
       "      <td>12</td>\n",
       "      <td>0</td>\n",
       "      <td>0</td>\n",
       "      <td>UAO</td>\n",
       "      <td>panel</td>\n",
       "    </tr>\n",
       "    <tr>\n",
       "      <th>3</th>\n",
       "      <td>8500000</td>\n",
       "      <td>2</td>\n",
       "      <td>0</td>\n",
       "      <td>43</td>\n",
       "      <td>59</td>\n",
       "      <td>929</td>\n",
       "      <td>0.0</td>\n",
       "      <td>55.624017</td>\n",
       "      <td>37.740373</td>\n",
       "      <td>17166</td>\n",
       "      <td>...</td>\n",
       "      <td>5</td>\n",
       "      <td>1.0</td>\n",
       "      <td>2</td>\n",
       "      <td>44.1</td>\n",
       "      <td>8</td>\n",
       "      <td>9</td>\n",
       "      <td>0</td>\n",
       "      <td>0</td>\n",
       "      <td>UAO</td>\n",
       "      <td>panel</td>\n",
       "    </tr>\n",
       "    <tr>\n",
       "      <th>4</th>\n",
       "      <td>9000000</td>\n",
       "      <td>2</td>\n",
       "      <td>0</td>\n",
       "      <td>43</td>\n",
       "      <td>59</td>\n",
       "      <td>785</td>\n",
       "      <td>0.0</td>\n",
       "      <td>55.609107</td>\n",
       "      <td>37.740430</td>\n",
       "      <td>17166</td>\n",
       "      <td>...</td>\n",
       "      <td>5</td>\n",
       "      <td>1.0</td>\n",
       "      <td>2</td>\n",
       "      <td>44.2</td>\n",
       "      <td>6</td>\n",
       "      <td>9</td>\n",
       "      <td>0</td>\n",
       "      <td>0</td>\n",
       "      <td>UAO</td>\n",
       "      <td>panel</td>\n",
       "    </tr>\n",
       "  </tbody>\n",
       "</table>\n",
       "<p>5 rows × 22 columns</p>\n",
       "</div>"
      ],
      "text/plain": [
       "      price  repair  year_built_empty  house_age  closest_subway  \\\n",
       "0   8000000       3                 0         42              59   \n",
       "1   7200000       2                 0         43              59   \n",
       "2  10300000       2                 0         43              59   \n",
       "3   8500000       2                 0         43              59   \n",
       "4   9000000       2                 0         43              59   \n",
       "\n",
       "   dist_to_subway   sg        lat        lon  subway_dist_to_center  ...  \\\n",
       "0             960  0.0  55.609009  37.734632                  17166  ...   \n",
       "1             802  0.0  55.608760  37.741936                  17166  ...   \n",
       "2             638  0.0  55.610207  37.742495                  17166  ...   \n",
       "3             929  0.0  55.624017  37.740373                  17166  ...   \n",
       "4             785  0.0  55.609107  37.740430                  17166  ...   \n",
       "\n",
       "  subway_offers  address_offers  rooms  footage  floor  max_floor  \\\n",
       "0             5             1.0      1     39.4     11         12   \n",
       "1             9             1.0      1     35.6      2          9   \n",
       "2             9             2.0      2     53.0      5         12   \n",
       "3             5             1.0      2     44.1      8          9   \n",
       "4             5             1.0      2     44.2      6          9   \n",
       "\n",
       "   first_floor  last_floor   AO     hm  \n",
       "0            0           0  UAO  panel  \n",
       "1            0           0  UAO  panel  \n",
       "2            0           0  UAO  panel  \n",
       "3            0           0  UAO  panel  \n",
       "4            0           0  UAO  panel  \n",
       "\n",
       "[5 rows x 22 columns]"
      ]
     },
     "execution_count": 2,
     "metadata": {},
     "output_type": "execute_result"
    }
   ],
   "source": [
    "os.chdir(r'D:\\My py files\\Data files\\Data Sets')\n",
    "df = pd.read_csv(\"moscow_apartment_listings.csv\")\n",
    "df.head()"
   ]
  },
  {
   "cell_type": "code",
   "execution_count": 3,
   "id": "8d4ff14f",
   "metadata": {},
   "outputs": [
    {
     "data": {
      "text/plain": [
       "array([[0.20529801],\n",
       "       [0.15231788],\n",
       "       [0.35761589],\n",
       "       ...,\n",
       "       [0.93377483],\n",
       "       [0.79470199],\n",
       "       [0.82317881]])"
      ]
     },
     "execution_count": 3,
     "metadata": {},
     "output_type": "execute_result"
    }
   ],
   "source": [
    "from sklearn import preprocessing\n",
    "\n",
    "sx = preprocessing.MinMaxScaler()\n",
    "sy = preprocessing.MinMaxScaler()\n",
    "\n",
    "Scaled_X = sx.fit_transform(df[['house_age', 'rooms', 'footage', 'floor', 'repair']])\n",
    "Scaled_y = sy.fit_transform(df['price'].values.reshape(df.shape[0], 1))\n",
    "\n",
    "Scaled_y # It has become 2D due to scaling"
   ]
  },
  {
   "cell_type": "code",
   "execution_count": 4,
   "id": "9ac97c4d",
   "metadata": {},
   "outputs": [
    {
     "data": {
      "text/plain": [
       "array([0.20529801, 0.15231788, 0.35761589, ..., 0.93377483, 0.79470199,\n",
       "       0.82317881])"
      ]
     },
     "execution_count": 4,
     "metadata": {},
     "output_type": "execute_result"
    }
   ],
   "source": [
    "Scaled_y.reshape(df.shape[0],) # convert target column (i.e. price) into one dimensional array"
   ]
  },
  {
   "cell_type": "code",
   "execution_count": 5,
   "id": "2e5e2242",
   "metadata": {},
   "outputs": [
    {
     "data": {
      "text/plain": [
       "array([[0.32307692, 0.        , 0.15551839, 0.27027027, 0.66666667],\n",
       "       [0.33076923, 0.        , 0.09197324, 0.02702703, 0.33333333],\n",
       "       [0.33076923, 1.        , 0.38294314, 0.10810811, 0.33333333],\n",
       "       ...,\n",
       "       [0.14615385, 0.        , 0.42976589, 0.27027027, 1.        ],\n",
       "       [0.14615385, 1.        , 0.53344482, 0.37837838, 0.        ],\n",
       "       [0.7       , 1.        , 0.22742475, 0.        , 0.33333333]])"
      ]
     },
     "execution_count": 5,
     "metadata": {},
     "output_type": "execute_result"
    }
   ],
   "source": [
    "Scaled_X"
   ]
  },
  {
   "cell_type": "markdown",
   "id": "ac6de9d3",
   "metadata": {},
   "source": [
    "# Batch Gradient Descent"
   ]
  },
  {
   "cell_type": "code",
   "execution_count": 6,
   "id": "bf828779",
   "metadata": {},
   "outputs": [],
   "source": [
    "def batch_gradient_descent(X, y_actual, epochs, learning_rate = 0.01):\n",
    "    \n",
    "    no_of_features = X.shape[1]\n",
    "    \n",
    "    w = np.ones(shape = (no_of_features))\n",
    "    b =0\n",
    "    total_samples = X.shape[0]  # number of rows\n",
    "    \n",
    "    cost_list = []\n",
    "    epoch_list = []\n",
    "    \n",
    "    for i in range(epochs):\n",
    "        y_pred = np.dot(w, X.T) + b  # w1 * house_age + w2 * rooms + w3 * footage + w4 * floor + w5 * repair + bias \n",
    "        \n",
    "        w_grad = w_grad = -(5/total_samples)*(X.T.dot(y_actual-y_pred))\n",
    "        b_grad = -(5/total_samples)*np.sum((y_actual-y_pred))\n",
    "        \n",
    "        w = w - learning_rate * w_grad\n",
    "        b = b - learning_rate * b_grad\n",
    "        \n",
    "        cost = np.mean(np.square(y_actual - y_pred)) # MSE\n",
    "        \n",
    "        if i%10==0:\n",
    "            cost_list.append(cost)\n",
    "            epoch_list.append(i)\n",
    "        \n",
    "    return w, b, cost, cost_list, epoch_list         "
   ]
  },
  {
   "cell_type": "code",
   "execution_count": 7,
   "id": "7900dc56",
   "metadata": {},
   "outputs": [],
   "source": [
    "w_bgd, b_bgd, cost_bgd, cost_list_bgd, epoch_list_bgd = batch_gradient_descent(Scaled_X, Scaled_y.reshape(Scaled_y.shape[0]), 500)"
   ]
  },
  {
   "cell_type": "code",
   "execution_count": 8,
   "id": "84947b48",
   "metadata": {},
   "outputs": [
    {
     "data": {
      "text/plain": [
       "(array([ 0.62660156, -0.01277997,  0.83334696,  0.77576983,  0.29096107]),\n",
       " -0.24944515139258788,\n",
       " 0.032393950622979)"
      ]
     },
     "execution_count": 8,
     "metadata": {},
     "output_type": "execute_result"
    }
   ],
   "source": [
    "w_bgd, b_bgd, cost_bgd"
   ]
  },
  {
   "cell_type": "code",
   "execution_count": 9,
   "id": "013bb143",
   "metadata": {},
   "outputs": [
    {
     "data": {
      "text/plain": [
       "[<matplotlib.lines.Line2D at 0x22367efa7f0>]"
      ]
     },
     "execution_count": 9,
     "metadata": {},
     "output_type": "execute_result"
    },
    {
     "data": {
      "image/png": "[encoded data removed]",
      "text/plain": [
       "<Figure size 432x288 with 1 Axes>"
      ]
     },
     "metadata": {
      "needs_background": "light"
     },
     "output_type": "display_data"
    }
   ],
   "source": [
    "plt.xlabel(\"epoch\")\n",
    "plt.ylabel(\"cost\")\n",
    "plt.plot(epoch_list_bgd,cost_list_bgd)"
   ]
  },
  {
   "cell_type": "markdown",
   "id": "c001e7fd",
   "metadata": {},
   "source": [
    "cost reduces as number of epoch increases"
   ]
  },
  {
   "cell_type": "code",
   "execution_count": 10,
   "id": "9a5b968a",
   "metadata": {},
   "outputs": [],
   "source": [
    "def predict(house_age, rooms, footage, floor, repair, w, b):\n",
    "    Scaled_X = sx.transform([[house_age, rooms, footage, floor, repair]])[0]\n",
    "    \n",
    "    scaled_price = w[0] * Scaled_X[0] + w[1] * Scaled_X[1] + w[2] * Scaled_X[2] + w[3] * Scaled_X[3] + w[4] * Scaled_X[4] + b\n",
    "    \n",
    "    return sy.inverse_transform([[scaled_price]])[0][0]"
   ]
  },
  {
   "cell_type": "code",
   "execution_count": 11,
   "id": "b5465cc1",
   "metadata": {},
   "outputs": [
    {
     "data": {
      "text/plain": [
       "7201462.92774085"
      ]
     },
     "execution_count": 11,
     "metadata": {},
     "output_type": "execute_result"
    }
   ],
   "source": [
    "predict(43, 1, 35.6, 2, 2, w_bgd, b_bgd)"
   ]
  },
  {
   "cell_type": "markdown",
   "id": "227a9192",
   "metadata": {},
   "source": [
    "# Stochastic Gradient Descent "
   ]
  },
  {
   "cell_type": "code",
   "execution_count": 17,
   "id": "0966aee9",
   "metadata": {},
   "outputs": [],
   "source": [
    "def stochastic_gradient_descent(X, y_actual, epochs, learning_rate = 0.01):\n",
    "    \n",
    "    no_of_features = X.shape[1]\n",
    "    \n",
    "    w = np.ones(shape = (no_of_features))\n",
    "    b =0\n",
    "    total_samples = X.shape[0]  # number of rows\n",
    "    \n",
    "    cost_list = []\n",
    "    epoch_list = []\n",
    "    \n",
    "    for i in range(epochs):\n",
    "        random_index = random.randint(0,total_samples-1)\n",
    "        \n",
    "        x_random = X[random_index]\n",
    "        y_random = y_actual[random_index]\n",
    "        \n",
    "        y_pred = np.dot(w, x_random.T) + b  \n",
    "        \n",
    "        w_grad = -(5/total_samples)*(x_random.T.dot(y_random-y_pred))\n",
    "        b_grad = -(5/total_samples)*(y_random-y_pred)\n",
    "        \n",
    "        w = w - learning_rate * w_grad\n",
    "        b = b - learning_rate * b_grad\n",
    "        \n",
    "        cost = np.square(y_random - y_pred) \n",
    "        \n",
    "        if i%1000==0:\n",
    "            cost_list.append(cost)\n",
    "            epoch_list.append(i)\n",
    "        \n",
    "    return w, b, cost, cost_list, epoch_list      "
   ]
  },
  {
   "cell_type": "code",
   "execution_count": 18,
   "id": "6d515b7c",
   "metadata": {
    "scrolled": true
   },
   "outputs": [],
   "source": [
    "w_sgd, b_sgd, cost_sgd, cost_list_sgd, epoch_list_sgd = stochastic_gradient_descent(Scaled_X, Scaled_y.reshape(Scaled_y.shape[0]), 500000)"
   ]
  },
  {
   "cell_type": "code",
   "execution_count": 19,
   "id": "c59d1379",
   "metadata": {},
   "outputs": [
    {
     "data": {
      "text/plain": [
       "(array([0.78186318, 0.32877469, 0.76889468, 0.88438115, 0.63870512]),\n",
       " -0.6493925458314512,\n",
       " 0.0711912740532812)"
      ]
     },
     "execution_count": 19,
     "metadata": {},
     "output_type": "execute_result"
    }
   ],
   "source": [
    "w_sgd, b_sgd, cost_sgd"
   ]
  },
  {
   "cell_type": "code",
   "execution_count": 20,
   "id": "de10bf35",
   "metadata": {},
   "outputs": [
    {
     "data": {
      "text/plain": [
       "[<matplotlib.lines.Line2D at 0x223680440a0>]"
      ]
     },
     "execution_count": 20,
     "metadata": {},
     "output_type": "execute_result"
    },
    {
     "data": {
      "image/png": "[encoded data removed]",
      "text/plain": [
       "<Figure size 432x288 with 1 Axes>"
      ]
     },
     "metadata": {
      "needs_background": "light"
     },
     "output_type": "display_data"
    }
   ],
   "source": [
    "plt.xlabel(\"epoch\")\n",
    "plt.ylabel(\"cost\")\n",
    "plt.plot(epoch_list_sgd,cost_list_sgd)"
   ]
  },
  {
   "cell_type": "code",
   "execution_count": 21,
   "id": "f8e32dca",
   "metadata": {
    "scrolled": true
   },
   "outputs": [
    {
     "data": {
      "text/plain": [
       "3642855.151678349"
      ]
     },
     "execution_count": 21,
     "metadata": {},
     "output_type": "execute_result"
    }
   ],
   "source": [
    "predict(43, 1, 35.6, 2, 2, w_sgd, b_sgd)"
   ]
  },
  {
   "cell_type": "code",
   "execution_count": null,
   "id": "dfb228b1",
   "metadata": {},
   "outputs": [],
   "source": []
  }
 ],
 "metadata": {
  "kernelspec": {
   "display_name": "Python 3",
   "language": "python",
   "name": "python3"
  },
  "language_info": {
   "codemirror_mode": {
    "name": "ipython",
    "version": 3
   },
   "file_extension": ".py",
   "mimetype": "text/x-python",
   "name": "python",
   "nbconvert_exporter": "python",
   "pygments_lexer": "ipython3",
   "version": "3.8.8"
  }
 },
 "nbformat": 4,
 "nbformat_minor": 5
}
