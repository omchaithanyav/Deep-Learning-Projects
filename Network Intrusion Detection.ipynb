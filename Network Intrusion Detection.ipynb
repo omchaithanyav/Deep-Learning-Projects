{
 "cells": [
  {
   "cell_type": "markdown",
   "metadata": {
    "execution": {
     "iopub.execute_input": "2021-06-27T08:36:09.404663Z",
     "iopub.status.busy": "2021-06-27T08:36:09.404436Z",
     "iopub.status.idle": "2021-06-27T08:36:09.570740Z",
     "shell.execute_reply": "2021-06-27T08:36:09.570151Z",
     "shell.execute_reply.started": "2021-06-27T08:36:09.404641Z"
    }
   },
   "source": [
    "# Network Intrusion Detection "
   ]
  },
  {
   "cell_type": "code",
   "execution_count": 321,
   "metadata": {
    "execution": {
     "iopub.execute_input": "2021-06-27T17:14:22.456982Z",
     "iopub.status.busy": "2021-06-27T17:14:22.456749Z",
     "iopub.status.idle": "2021-06-27T17:14:22.461075Z",
     "shell.execute_reply": "2021-06-27T17:14:22.460550Z",
     "shell.execute_reply.started": "2021-06-27T17:14:22.456956Z"
    }
   },
   "outputs": [],
   "source": [
    "from __future__ import print_function\n",
    "import pandas as pd\n",
    "import numpy as np\n",
    "import tensorflow as tf\n",
    "\n",
    "from tensorflow.keras.models import Sequential\n",
    "from tensorflow.keras.layers import Dense, Dropout, Activation\n",
    "from sklearn.metrics import (precision_score, recall_score,f1_score, accuracy_score)\n",
    "from sklearn.preprocessing import Normalizer\n",
    "import h5py\n",
    "from tensorflow.keras import callbacks\n",
    "from tensorflow.keras.callbacks import CSVLogger\n",
    "from tensorflow.keras.callbacks import TensorBoard\n",
    "from sklearn.metrics import confusion_matrix"
   ]
  },
  {
   "cell_type": "code",
   "execution_count": 322,
   "metadata": {
    "execution": {
     "iopub.execute_input": "2021-06-27T17:14:22.835618Z",
     "iopub.status.busy": "2021-06-27T17:14:22.835439Z",
     "iopub.status.idle": "2021-06-27T17:14:24.952523Z",
     "shell.execute_reply": "2021-06-27T17:14:24.951945Z",
     "shell.execute_reply.started": "2021-06-27T17:14:22.835599Z"
    }
   },
   "outputs": [],
   "source": [
    "traindata = pd.read_csv('Training.csv', header=None)\n",
    "testdata = pd.read_csv('Testing.csv', header=None)"
   ]
  },
  {
   "cell_type": "code",
   "execution_count": 323,
   "metadata": {
    "execution": {
     "iopub.execute_input": "2021-06-27T17:14:24.985161Z",
     "iopub.status.busy": "2021-06-27T17:14:24.984984Z",
     "iopub.status.idle": "2021-06-27T17:14:25.029690Z",
     "shell.execute_reply": "2021-06-27T17:14:25.029149Z",
     "shell.execute_reply.started": "2021-06-27T17:14:24.985140Z"
    }
   },
   "outputs": [],
   "source": [
    "traindata = traindata.sample(30000)\n",
    "testdata = testdata.sample(6000)"
   ]
  },
  {
   "cell_type": "code",
   "execution_count": 324,
   "metadata": {
    "execution": {
     "iopub.execute_input": "2021-06-27T17:14:25.030829Z",
     "iopub.status.busy": "2021-06-27T17:14:25.030647Z",
     "iopub.status.idle": "2021-06-27T17:14:25.035957Z",
     "shell.execute_reply": "2021-06-27T17:14:25.035435Z",
     "shell.execute_reply.started": "2021-06-27T17:14:25.030806Z"
    }
   },
   "outputs": [
    {
     "data": {
      "text/plain": [
       "1    24157\n",
       "0     5843\n",
       "Name: 0, dtype: int64"
      ]
     },
     "execution_count": 324,
     "metadata": {},
     "output_type": "execute_result"
    }
   ],
   "source": [
    "traindata[0].value_counts()"
   ]
  },
  {
   "cell_type": "code",
   "execution_count": 325,
   "metadata": {
    "execution": {
     "iopub.execute_input": "2021-06-27T17:14:25.036932Z",
     "iopub.status.busy": "2021-06-27T17:14:25.036763Z",
     "iopub.status.idle": "2021-06-27T17:14:25.042226Z",
     "shell.execute_reply": "2021-06-27T17:14:25.041622Z",
     "shell.execute_reply.started": "2021-06-27T17:14:25.036912Z"
    }
   },
   "outputs": [
    {
     "data": {
      "text/plain": [
       "1    4849\n",
       "0    1151\n",
       "Name: 0, dtype: int64"
      ]
     },
     "execution_count": 325,
     "metadata": {},
     "output_type": "execute_result"
    }
   ],
   "source": [
    "testdata[0].value_counts()"
   ]
  },
  {
   "cell_type": "code",
   "execution_count": 326,
   "metadata": {
    "execution": {
     "iopub.execute_input": "2021-06-27T17:14:25.043146Z",
     "iopub.status.busy": "2021-06-27T17:14:25.042963Z",
     "iopub.status.idle": "2021-06-27T17:14:25.051361Z",
     "shell.execute_reply": "2021-06-27T17:14:25.050850Z",
     "shell.execute_reply.started": "2021-06-27T17:14:25.043125Z"
    }
   },
   "outputs": [],
   "source": [
    "# Class count\n",
    "count_class_1, count_class_0 = traindata[0].value_counts()\n",
    "\n",
    "# Divide by class\n",
    "df_train_class_0 = traindata[traindata[0] == 0]\n",
    "df_train_class_1 = traindata[traindata[0] == 1]"
   ]
  },
  {
   "cell_type": "code",
   "execution_count": 327,
   "metadata": {
    "execution": {
     "iopub.execute_input": "2021-06-27T17:14:25.503548Z",
     "iopub.status.busy": "2021-06-27T17:14:25.503273Z",
     "iopub.status.idle": "2021-06-27T17:14:25.518977Z",
     "shell.execute_reply": "2021-06-27T17:14:25.518455Z",
     "shell.execute_reply.started": "2021-06-27T17:14:25.503524Z"
    }
   },
   "outputs": [
    {
     "name": "stdout",
     "output_type": "stream",
     "text": [
      "Random over-sampling:\n",
      "1    24157\n",
      "0    24157\n",
      "Name: 0, dtype: int64\n"
     ]
    }
   ],
   "source": [
    "# Oversample \n",
    "\n",
    "df_train_class_0_over = df_train_class_0.sample(count_class_1, replace=True)\n",
    "df_train_over = pd.concat([df_train_class_1, df_train_class_0_over], axis=0)\n",
    "\n",
    "print('Random over-sampling:')\n",
    "print(df_train_over[0].value_counts())"
   ]
  },
  {
   "cell_type": "code",
   "execution_count": 328,
   "metadata": {
    "execution": {
     "iopub.execute_input": "2021-06-27T17:14:25.973691Z",
     "iopub.status.busy": "2021-06-27T17:14:25.973459Z",
     "iopub.status.idle": "2021-06-27T17:14:25.979920Z",
     "shell.execute_reply": "2021-06-27T17:14:25.979405Z",
     "shell.execute_reply.started": "2021-06-27T17:14:25.973668Z"
    }
   },
   "outputs": [],
   "source": [
    "# Class count\n",
    "count_class_1, count_class_0 = testdata[0].value_counts()\n",
    "\n",
    "# Divide by class\n",
    "df_test_class_0 = testdata[testdata[0] == 0]\n",
    "df_test_class_1 = testdata[testdata[0] == 1]"
   ]
  },
  {
   "cell_type": "code",
   "execution_count": 329,
   "metadata": {
    "execution": {
     "iopub.execute_input": "2021-06-27T17:14:26.345511Z",
     "iopub.status.busy": "2021-06-27T17:14:26.345270Z",
     "iopub.status.idle": "2021-06-27T17:14:26.354919Z",
     "shell.execute_reply": "2021-06-27T17:14:26.354367Z",
     "shell.execute_reply.started": "2021-06-27T17:14:26.345487Z"
    }
   },
   "outputs": [
    {
     "name": "stdout",
     "output_type": "stream",
     "text": [
      "Random over-sampling:\n",
      "1    4849\n",
      "0    4849\n",
      "Name: 0, dtype: int64\n"
     ]
    }
   ],
   "source": [
    "# Oversample\n",
    "\n",
    "df_test_class_0_over = df_test_class_0.sample(count_class_1, replace=True)\n",
    "df_test_over = pd.concat([df_test_class_1, df_test_class_0_over], axis=0)\n",
    "\n",
    "print('Random over-sampling:')\n",
    "print(df_test_over[0].value_counts())"
   ]
  },
  {
   "cell_type": "code",
   "execution_count": 330,
   "metadata": {
    "execution": {
     "iopub.execute_input": "2021-06-27T17:14:26.737075Z",
     "iopub.status.busy": "2021-06-27T17:14:26.736839Z",
     "iopub.status.idle": "2021-06-27T17:14:26.739857Z",
     "shell.execute_reply": "2021-06-27T17:14:26.739269Z",
     "shell.execute_reply.started": "2021-06-27T17:14:26.737052Z"
    }
   },
   "outputs": [],
   "source": [
    "import os\n",
    "os.environ['KMP_DUPLICATE_LIB_OK']='True'"
   ]
  },
  {
   "cell_type": "code",
   "execution_count": 331,
   "metadata": {
    "execution": {
     "iopub.execute_input": "2021-06-27T17:14:30.428311Z",
     "iopub.status.busy": "2021-06-27T17:14:30.427962Z",
     "iopub.status.idle": "2021-06-27T17:14:30.434512Z",
     "shell.execute_reply": "2021-06-27T17:14:30.433894Z",
     "shell.execute_reply.started": "2021-06-27T17:14:30.428273Z"
    }
   },
   "outputs": [],
   "source": [
    "X = df_train_over.iloc[:,1:5]\n",
    "Y = df_train_over.iloc[:,0]\n",
    "C = df_test_over.iloc[:,0]\n",
    "T = df_test_over.iloc[:,1:5]"
   ]
  },
  {
   "cell_type": "code",
   "execution_count": 332,
   "metadata": {
    "execution": {
     "iopub.execute_input": "2021-06-27T17:14:31.051685Z",
     "iopub.status.busy": "2021-06-27T17:14:31.051451Z",
     "iopub.status.idle": "2021-06-27T17:14:31.056853Z",
     "shell.execute_reply": "2021-06-27T17:14:31.056332Z",
     "shell.execute_reply.started": "2021-06-27T17:14:31.051662Z"
    }
   },
   "outputs": [
    {
     "data": {
      "text/plain": [
       "1    24157\n",
       "0    24157\n",
       "Name: 0, dtype: int64"
      ]
     },
     "execution_count": 332,
     "metadata": {},
     "output_type": "execute_result"
    }
   ],
   "source": [
    "Y.value_counts()"
   ]
  },
  {
   "cell_type": "code",
   "execution_count": 333,
   "metadata": {
    "execution": {
     "iopub.execute_input": "2021-06-27T17:14:31.743631Z",
     "iopub.status.busy": "2021-06-27T17:14:31.743368Z",
     "iopub.status.idle": "2021-06-27T17:14:31.752373Z",
     "shell.execute_reply": "2021-06-27T17:14:31.751870Z",
     "shell.execute_reply.started": "2021-06-27T17:14:31.743607Z"
    }
   },
   "outputs": [],
   "source": [
    "scaler = Normalizer().fit(X)\n",
    "trainX = scaler.transform(X)\n",
    "\n",
    "scaler = Normalizer().fit(T)\n",
    "testT = scaler.transform(T)"
   ]
  },
  {
   "cell_type": "code",
   "execution_count": 334,
   "metadata": {
    "execution": {
     "iopub.execute_input": "2021-06-27T17:14:32.368069Z",
     "iopub.status.busy": "2021-06-27T17:14:32.367842Z",
     "iopub.status.idle": "2021-06-27T17:14:32.371894Z",
     "shell.execute_reply": "2021-06-27T17:14:32.371194Z",
     "shell.execute_reply.started": "2021-06-27T17:14:32.368047Z"
    }
   },
   "outputs": [],
   "source": [
    "y_train = np.array(Y)\n",
    "y_test = np.array(C)\n",
    "\n",
    "\n",
    "X_train = np.array(trainX)\n",
    "X_test = np.array(testT)"
   ]
  },
  {
   "cell_type": "code",
   "execution_count": 335,
   "metadata": {
    "execution": {
     "iopub.execute_input": "2021-06-27T17:14:34.037086Z",
     "iopub.status.busy": "2021-06-27T17:14:34.036865Z",
     "iopub.status.idle": "2021-06-27T17:14:34.039607Z",
     "shell.execute_reply": "2021-06-27T17:14:34.039092Z",
     "shell.execute_reply.started": "2021-06-27T17:14:34.037064Z"
    }
   },
   "outputs": [],
   "source": [
    "batch_size = 64"
   ]
  },
  {
   "cell_type": "code",
   "execution_count": 336,
   "metadata": {
    "execution": {
     "iopub.execute_input": "2021-06-27T17:14:34.753329Z",
     "iopub.status.busy": "2021-06-27T17:14:34.753094Z",
     "iopub.status.idle": "2021-06-27T17:14:50.431875Z",
     "shell.execute_reply": "2021-06-27T17:14:50.431241Z",
     "shell.execute_reply.started": "2021-06-27T17:14:34.753305Z"
    }
   },
   "outputs": [
    {
     "name": "stdout",
     "output_type": "stream",
     "text": [
      "Epoch 1/10\n",
      "  1/755 [..............................] - ETA: 0s - loss: 0.6879 - accuracy: 0.5938WARNING:tensorflow:Callbacks method `on_train_batch_end` is slow compared to the batch time (batch time: 0.0025s vs `on_train_batch_end` time: 0.0441s). Check your callbacks.\n",
      "752/755 [============================>.] - ETA: 0s - loss: 0.3109 - accuracy: 0.8794\n",
      "Epoch 00001: loss improved from inf to 0.31043, saving model to dnn-kdd-results/checkpoint-01.h5\n",
      "755/755 [==============================] - 2s 2ms/step - loss: 0.3104 - accuracy: 0.8796 - val_loss: 0.2771 - val_accuracy: 0.9154\n",
      "Epoch 2/10\n",
      "754/755 [============================>.] - ETA: 0s - loss: 0.1074 - accuracy: 0.9747\n",
      "Epoch 00002: loss improved from 0.31043 to 0.10739, saving model to dnn-kdd-results/checkpoint-02.h5\n",
      "755/755 [==============================] - 1s 2ms/step - loss: 0.1074 - accuracy: 0.9747 - val_loss: 0.2193 - val_accuracy: 0.9496\n",
      "Epoch 3/10\n",
      "753/755 [============================>.] - ETA: 0s - loss: 0.0853 - accuracy: 0.9835\n",
      "Epoch 00003: loss improved from 0.10739 to 0.08524, saving model to dnn-kdd-results/checkpoint-03.h5\n",
      "755/755 [==============================] - 1s 2ms/step - loss: 0.0852 - accuracy: 0.9835 - val_loss: 0.1855 - val_accuracy: 0.9496\n",
      "Epoch 4/10\n",
      "749/755 [============================>.] - ETA: 0s - loss: 0.0842 - accuracy: 0.9829\n",
      "Epoch 00004: loss improved from 0.08524 to 0.08410, saving model to dnn-kdd-results/checkpoint-04.h5\n",
      "755/755 [==============================] - 1s 2ms/step - loss: 0.0841 - accuracy: 0.9829 - val_loss: 0.2126 - val_accuracy: 0.9494\n",
      "Epoch 5/10\n",
      "745/755 [============================>.] - ETA: 0s - loss: 0.0859 - accuracy: 0.9822\n",
      "Epoch 00005: loss did not improve from 0.08410\n",
      "755/755 [==============================] - 1s 2ms/step - loss: 0.0857 - accuracy: 0.9822 - val_loss: 0.2023 - val_accuracy: 0.9496\n",
      "Epoch 6/10\n",
      "742/755 [============================>.] - ETA: 0s - loss: 0.0910 - accuracy: 0.9789\n",
      "Epoch 00006: loss did not improve from 0.08410\n",
      "755/755 [==============================] - 1s 2ms/step - loss: 0.0916 - accuracy: 0.9789 - val_loss: 0.2037 - val_accuracy: 0.9495\n",
      "Epoch 7/10\n",
      "744/755 [============================>.] - ETA: 0s - loss: 0.0920 - accuracy: 0.9793\n",
      "Epoch 00007: loss did not improve from 0.08410\n",
      "755/755 [==============================] - 1s 2ms/step - loss: 0.0920 - accuracy: 0.9792 - val_loss: 0.2085 - val_accuracy: 0.9495\n",
      "Epoch 8/10\n",
      "744/755 [============================>.] - ETA: 0s - loss: 0.0916 - accuracy: 0.9790\n",
      "Epoch 00008: loss did not improve from 0.08410\n",
      "755/755 [==============================] - 2s 2ms/step - loss: 0.0919 - accuracy: 0.9789 - val_loss: 0.2022 - val_accuracy: 0.9496\n",
      "Epoch 9/10\n",
      "755/755 [==============================] - ETA: 0s - loss: 0.0906 - accuracy: 0.9800\n",
      "Epoch 00009: loss did not improve from 0.08410\n",
      "755/755 [==============================] - 1s 2ms/step - loss: 0.0906 - accuracy: 0.9800 - val_loss: 0.2123 - val_accuracy: 0.9495\n",
      "Epoch 10/10\n",
      "744/755 [============================>.] - ETA: 0s - loss: 0.0886 - accuracy: 0.9806\n",
      "Epoch 00010: loss did not improve from 0.08410\n",
      "755/755 [==============================] - 2s 2ms/step - loss: 0.0883 - accuracy: 0.9807 - val_loss: 0.2051 - val_accuracy: 0.9496\n",
      "<bound method Model.summary of <tensorflow.python.keras.engine.sequential.Sequential object at 0x7f96c39a1940>>\n"
     ]
    }
   ],
   "source": [
    "model = Sequential()\n",
    "model.add(Dense(1000,input_dim=4,activation='relu'))  \n",
    "model.add(Dropout(0.5))\n",
    "model.add(Dense(700,activation='relu'))  \n",
    "model.add(Dropout(0.5))\n",
    "model.add(Dense(300,activation='relu'))  \n",
    "model.add(Dropout(0.5))\n",
    "model.add(Dense(100,activation='relu'))  \n",
    "model.add(Dropout(0.5))\n",
    "model.add(Dense(1))\n",
    "model.add(Activation('sigmoid'))\n",
    "\n",
    "tensorboard = TensorBoard(log_dir='./logs',\n",
    "                          histogram_freq=0,\n",
    "                          write_graph=True,\n",
    "                          write_images=True)\n",
    "model.compile(loss='binary_crossentropy',optimizer='adam',metrics=['accuracy'])\n",
    "\n",
    "checkpointer = callbacks.ModelCheckpoint(filepath=\"dnn-kdd-results/checkpoint-{epoch:02d}.h5\", \n",
    "                                         verbose=1, save_best_only=True, monitor='loss')\n",
    "csv_logger = CSVLogger('dnn-kdd-results/training_set_dnnanalysis.csv',separator=',', append=False)\n",
    "history = model.fit(X_train, y_train, batch_size=batch_size, epochs=10, validation_data=(X_test,y_test), callbacks=[checkpointer,csv_logger, tensorboard])\n",
    "model.save(\"dnn-kdd-results/dnn_model.h5\")\n",
    "print(model.summary)"
   ]
  },
  {
   "cell_type": "code",
   "execution_count": 337,
   "metadata": {
    "execution": {
     "iopub.execute_input": "2021-06-27T17:14:53.435535Z",
     "iopub.status.busy": "2021-06-27T17:14:53.435276Z",
     "iopub.status.idle": "2021-06-27T17:14:53.545018Z",
     "shell.execute_reply": "2021-06-27T17:14:53.544359Z",
     "shell.execute_reply.started": "2021-06-27T17:14:53.435512Z"
    }
   },
   "outputs": [
    {
     "data": {
      "image/png": "[encoded data removed]",
      "text/plain": [
       "<Figure size 432x288 with 1 Axes>"
      ]
     },
     "metadata": {
      "needs_background": "light"
     },
     "output_type": "display_data"
    }
   ],
   "source": [
    "from matplotlib import pyplot as plt\n",
    "plt.plot(history.history['loss'])\n",
    "plt.plot(history.history['val_loss'])\n",
    "plt.title('model loss')\n",
    "plt.ylabel('loss')\n",
    "plt.xlabel('epoch')\n",
    "plt.legend(['train', 'validation'], loc='upper left')\n",
    "plt.show()"
   ]
  },
  {
   "cell_type": "code",
   "execution_count": 338,
   "metadata": {
    "execution": {
     "iopub.execute_input": "2021-06-27T17:14:58.113749Z",
     "iopub.status.busy": "2021-06-27T17:14:58.113522Z",
     "iopub.status.idle": "2021-06-27T17:14:58.230485Z",
     "shell.execute_reply": "2021-06-27T17:14:58.229964Z",
     "shell.execute_reply.started": "2021-06-27T17:14:58.113727Z"
    }
   },
   "outputs": [
    {
     "data": {
      "image/png": "[encoded data removed]",
      "text/plain": [
       "<Figure size 432x288 with 1 Axes>"
      ]
     },
     "metadata": {
      "needs_background": "light"
     },
     "output_type": "display_data"
    }
   ],
   "source": [
    "from matplotlib import pyplot as plt\n",
    "plt.plot(history.history['accuracy'])\n",
    "plt.plot(history.history['val_accuracy'])\n",
    "plt.title('model accuracy')\n",
    "plt.ylabel('accuracy')\n",
    "plt.xlabel('epoch')\n",
    "plt.legend(['train', 'validation'], loc='upper left')\n",
    "plt.show()"
   ]
  },
  {
   "cell_type": "code",
   "execution_count": 339,
   "metadata": {
    "execution": {
     "iopub.execute_input": "2021-06-27T17:14:59.818544Z",
     "iopub.status.busy": "2021-06-27T17:14:59.818310Z",
     "iopub.status.idle": "2021-06-27T17:15:01.696025Z",
     "shell.execute_reply": "2021-06-27T17:15:01.695316Z",
     "shell.execute_reply.started": "2021-06-27T17:14:59.818522Z"
    }
   },
   "outputs": [
    {
     "name": "stdout",
     "output_type": "stream",
     "text": [
      "----------------------------------------------\n",
      "accuracy\n",
      "0.915\n",
      "----------------------------------------------\n",
      "accuracy\n",
      "0.915\n",
      "----------------------------------------------\n",
      "accuracy\n",
      "0.915\n",
      "----------------------------------------------\n",
      "accuracy\n",
      "0.915\n",
      "----------------------------------------------\n",
      "accuracy\n",
      "0.915\n",
      "----------------------------------------------\n",
      "accuracy\n",
      "0.915\n",
      "----------------------------------------------\n",
      "accuracy\n",
      "0.915\n",
      "----------------------------------------------\n",
      "accuracy\n",
      "0.949\n",
      "Classification Report: \n",
      "               precision    recall  f1-score   support\n",
      "\n",
      "           0       0.91      0.92      0.92      4849\n",
      "           1       0.92      0.91      0.91      4849\n",
      "\n",
      "    accuracy                           0.92      9698\n",
      "   macro avg       0.92      0.92      0.92      9698\n",
      "weighted avg       0.92      0.92      0.92      9698\n",
      "\n",
      "[[4481  368]\n",
      " [ 452 4397]]\n"
     ]
    },
    {
     "name": "stderr",
     "output_type": "stream",
     "text": [
      "/opt/tljh/user/lib/python3.7/site-packages/ipykernel_launcher.py:54: UserWarning: FixedFormatter should only be used together with FixedLocator\n",
      "/opt/tljh/user/lib/python3.7/site-packages/ipykernel_launcher.py:55: UserWarning: FixedFormatter should only be used together with FixedLocator\n"
     ]
    },
    {
     "data": {
      "image/png": "[encoded data removed]",
      "text/plain": [
       "<Figure size 432x288 with 3 Axes>"
      ]
     },
     "metadata": {
      "needs_background": "light"
     },
     "output_type": "display_data"
    }
   ],
   "source": [
    "score = []\n",
    "name = []\n",
    "\n",
    "for file in os.listdir(\"dnn-kdd-results\"):\n",
    "    model.load_weights(\"dnn-kdd-results/checkpoint-01.h5\")\n",
    "    y_train1 = y_test\n",
    "    y_pred = model.predict_classes(X_test)\n",
    "    accuracy = accuracy_score(y_train1, y_pred)\n",
    "    recall = recall_score(y_train1, y_pred , average=\"binary\")\n",
    "    precision = precision_score(y_train1, y_pred , average=\"binary\")\n",
    "    f1 = f1_score(y_train1, y_pred, average=\"binary\")\n",
    "    print(\"----------------------------------------------\")\n",
    "    print(\"accuracy\")\n",
    "    print(\"%.3f\" %accuracy)\n",
    "    score.append(accuracy)\n",
    "    name.append(file)\n",
    "\n",
    "\n",
    "model.load_weights(\"dnn-kdd-results/\"+name[score.index(max(score))])\n",
    "pred = model.predict_classes(X_test)\n",
    "proba = model.predict_proba(X_test)\n",
    "np.savetxt(\"dnn-kdd-results/dnn4predicted.txt\", pred)\n",
    "np.savetxt(\"dnn-kdd-results/dnn4probability.txt\", proba)\n",
    "\n",
    "accuracy = accuracy_score(y_test, pred)\n",
    "recall = recall_score(y_test, pred , average=\"binary\")\n",
    "precision = precision_score(y_test, pred , average=\"binary\")\n",
    "f1 = f1_score(y_test, pred, average=\"binary\")\n",
    "\n",
    "\n",
    "print(\"----------------------------------------------\")\n",
    "print(\"accuracy\")\n",
    "print(\"%.3f\" %accuracy)\n",
    "\n",
    "from sklearn.metrics import classification_report, confusion_matrix \n",
    "print(\"Classification Report: \\n\", classification_report(y_test, y_pred))\n",
    "\n",
    "import matplotlib.pylab as plt\n",
    "import seaborn as sn\n",
    "%matplotlib inline\n",
    "matrix = confusion_matrix(y_test, y_pred)\n",
    "print (matrix)\n",
    "\n",
    "#Plotting the Confusion Matrix\n",
    "labels = ['Normal', 'Intruder']\n",
    "fig = plt.figure()\n",
    "ax = fig.add_subplot(111)\n",
    "cax = ax.matshow(matrix)\n",
    "\n",
    "fig.colorbar(cax)\n",
    "ax.set_xticklabels([''] + labels)\n",
    "ax.set_yticklabels([''] + labels)\n",
    "sn.heatmap(matrix, annot = True, fmt = 'd')\n",
    "plt.xlabel('Predicted')\n",
    "plt.ylabel('True')\n",
    "plt.show()"
   ]
  },
  {
   "cell_type": "code",
   "execution_count": null,
   "metadata": {},
   "outputs": [],
   "source": []
  },
  {
   "cell_type": "markdown",
   "metadata": {},
   "source": [
    "Medium article link: https://vomchaithanya.medium.com/network-intrusion-detection-ffb4d79f9edb"
   ]
  },
  {
   "cell_type": "code",
   "execution_count": null,
   "metadata": {},
   "outputs": [],
   "source": []
  }
 ],
 "metadata": {
  "kernelspec": {
   "display_name": "Python 3",
   "language": "python",
   "name": "python3"
  },
  "language_info": {
   "codemirror_mode": {
    "name": "ipython",
    "version": 3
   },
   "file_extension": ".py",
   "mimetype": "text/x-python",
   "name": "python",
   "nbconvert_exporter": "python",
   "pygments_lexer": "ipython3",
   "version": "3.8.8"
  }
 },
 "nbformat": 4,
 "nbformat_minor": 4
}
